{
  "cells": [
    {
      "cell_type": "code",
      "execution_count": null,
      "metadata": {
        "id": "XLkGOTWm3XP5"
      },
      "outputs": [],
      "source": [
        "# Import the modules\n",
        "import numpy as np\n",
        "import pandas as pd\n",
        "from pathlib import Path\n",
        "from sklearn.metrics import balanced_accuracy_score\n",
        "from sklearn.metrics import confusion_matrix\n",
        "from imblearn.metrics import classification_report_imbalanced\n",
        "from sklearn.metrics import classification_report\n",
        "from sklearn.preprocessing import OneHotEncoder\n",
        "from sklearn.metrics import mean_absolute_error, mean_squared_error, r2_score\n",
        "import matplotlib.pyplot as plt\n",
        "import seaborn as sns\n",
        "%matplotlib inline\n",
        "import warnings\n",
        "warnings.filterwarnings('ignore')"
      ]
    },
    {
      "cell_type": "markdown",
      "metadata": {
        "id": "kgmyxnkt3XP6"
      },
      "source": [
        "---"
      ]
    },
    {
      "cell_type": "markdown",
      "metadata": {
        "id": "KSbs5a-Q3XP7"
      },
      "source": [
        "## Data Exploration"
      ]
    },
    {
      "cell_type": "markdown",
      "metadata": {
        "id": "qftzuTGv3XP7"
      },
      "source": [
        "### Reading the `housing.csv` data into a Pandas DataFrame."
      ]
    },
    {
      "cell_type": "code",
      "execution_count": null,
      "metadata": {
        "id": "7Qj0Clcb3XP7",
        "outputId": "4811ce77-0d4c-421b-976d-71e992281099"
      },
      "outputs": [
        {
          "data": {
            "text/html": [
              "<div>\n",
              "<style scoped>\n",
              "    .dataframe tbody tr th:only-of-type {\n",
              "        vertical-align: middle;\n",
              "    }\n",
              "\n",
              "    .dataframe tbody tr th {\n",
              "        vertical-align: top;\n",
              "    }\n",
              "\n",
              "    .dataframe thead th {\n",
              "        text-align: right;\n",
              "    }\n",
              "</style>\n",
              "<table border=\"1\" class=\"dataframe\">\n",
              "  <thead>\n",
              "    <tr style=\"text-align: right;\">\n",
              "      <th></th>\n",
              "      <th>longitude</th>\n",
              "      <th>latitude</th>\n",
              "      <th>housing_median_age</th>\n",
              "      <th>total_rooms</th>\n",
              "      <th>total_bedrooms</th>\n",
              "      <th>population</th>\n",
              "      <th>households</th>\n",
              "      <th>median_income</th>\n",
              "      <th>median_house_value</th>\n",
              "      <th>ocean_proximity</th>\n",
              "    </tr>\n",
              "  </thead>\n",
              "  <tbody>\n",
              "    <tr>\n",
              "      <th>0</th>\n",
              "      <td>-122.23</td>\n",
              "      <td>37.88</td>\n",
              "      <td>41.0</td>\n",
              "      <td>880.0</td>\n",
              "      <td>129.0</td>\n",
              "      <td>322.0</td>\n",
              "      <td>126.0</td>\n",
              "      <td>8.3252</td>\n",
              "      <td>452600.0</td>\n",
              "      <td>NEAR BAY</td>\n",
              "    </tr>\n",
              "    <tr>\n",
              "      <th>1</th>\n",
              "      <td>-122.22</td>\n",
              "      <td>37.86</td>\n",
              "      <td>21.0</td>\n",
              "      <td>7099.0</td>\n",
              "      <td>1106.0</td>\n",
              "      <td>2401.0</td>\n",
              "      <td>1138.0</td>\n",
              "      <td>8.3014</td>\n",
              "      <td>358500.0</td>\n",
              "      <td>NEAR BAY</td>\n",
              "    </tr>\n",
              "    <tr>\n",
              "      <th>2</th>\n",
              "      <td>-122.24</td>\n",
              "      <td>37.85</td>\n",
              "      <td>52.0</td>\n",
              "      <td>1467.0</td>\n",
              "      <td>190.0</td>\n",
              "      <td>496.0</td>\n",
              "      <td>177.0</td>\n",
              "      <td>7.2574</td>\n",
              "      <td>352100.0</td>\n",
              "      <td>NEAR BAY</td>\n",
              "    </tr>\n",
              "    <tr>\n",
              "      <th>3</th>\n",
              "      <td>-122.25</td>\n",
              "      <td>37.85</td>\n",
              "      <td>52.0</td>\n",
              "      <td>1274.0</td>\n",
              "      <td>235.0</td>\n",
              "      <td>558.0</td>\n",
              "      <td>219.0</td>\n",
              "      <td>5.6431</td>\n",
              "      <td>341300.0</td>\n",
              "      <td>NEAR BAY</td>\n",
              "    </tr>\n",
              "    <tr>\n",
              "      <th>4</th>\n",
              "      <td>-122.25</td>\n",
              "      <td>37.85</td>\n",
              "      <td>52.0</td>\n",
              "      <td>1627.0</td>\n",
              "      <td>280.0</td>\n",
              "      <td>565.0</td>\n",
              "      <td>259.0</td>\n",
              "      <td>3.8462</td>\n",
              "      <td>342200.0</td>\n",
              "      <td>NEAR BAY</td>\n",
              "    </tr>\n",
              "  </tbody>\n",
              "</table>\n",
              "</div>"
            ],
            "text/plain": [
              "   longitude  latitude  housing_median_age  total_rooms  total_bedrooms  \\\n",
              "0    -122.23     37.88                41.0        880.0           129.0   \n",
              "1    -122.22     37.86                21.0       7099.0          1106.0   \n",
              "2    -122.24     37.85                52.0       1467.0           190.0   \n",
              "3    -122.25     37.85                52.0       1274.0           235.0   \n",
              "4    -122.25     37.85                52.0       1627.0           280.0   \n",
              "\n",
              "   population  households  median_income  median_house_value ocean_proximity  \n",
              "0       322.0       126.0         8.3252            452600.0        NEAR BAY  \n",
              "1      2401.0      1138.0         8.3014            358500.0        NEAR BAY  \n",
              "2       496.0       177.0         7.2574            352100.0        NEAR BAY  \n",
              "3       558.0       219.0         5.6431            341300.0        NEAR BAY  \n",
              "4       565.0       259.0         3.8462            342200.0        NEAR BAY  "
            ]
          },
          "execution_count": 110,
          "metadata": {},
          "output_type": "execute_result"
        }
      ],
      "source": [
        "# Read the CSV file\n",
        "housing_df = pd.read_csv(\"housing.csv\")\n",
        "\n",
        "# Review the DataFrame\n",
        "housing_df.head()"
      ]
    },
    {
      "cell_type": "code",
      "execution_count": null,
      "metadata": {
        "id": "7MTpvIog3XP8",
        "outputId": "4c39b296-13f3-4b6a-b25c-34f6d5048c39"
      },
      "outputs": [
        {
          "name": "stdout",
          "output_type": "stream",
          "text": [
            "<class 'pandas.core.frame.DataFrame'>\n",
            "RangeIndex: 20640 entries, 0 to 20639\n",
            "Data columns (total 10 columns):\n",
            " #   Column              Non-Null Count  Dtype  \n",
            "---  ------              --------------  -----  \n",
            " 0   longitude           20640 non-null  float64\n",
            " 1   latitude            20640 non-null  float64\n",
            " 2   housing_median_age  20640 non-null  float64\n",
            " 3   total_rooms         20640 non-null  float64\n",
            " 4   total_bedrooms      20433 non-null  float64\n",
            " 5   population          20640 non-null  float64\n",
            " 6   households          20640 non-null  float64\n",
            " 7   median_income       20640 non-null  float64\n",
            " 8   median_house_value  20640 non-null  float64\n",
            " 9   ocean_proximity     20640 non-null  object \n",
            "dtypes: float64(9), object(1)\n",
            "memory usage: 1.6+ MB\n"
          ]
        }
      ],
      "source": [
        "#Review the information\n",
        "housing_df.info()"
      ]
    },
    {
      "cell_type": "code",
      "execution_count": null,
      "metadata": {
        "id": "eiSLSJkK3XP9",
        "outputId": "91efacd8-205e-4cf8-d83c-fcbf34405e02"
      },
      "outputs": [
        {
          "data": {
            "text/plain": [
              "['longitude',\n",
              " 'latitude',\n",
              " 'housing_median_age',\n",
              " 'total_rooms',\n",
              " 'total_bedrooms',\n",
              " 'population',\n",
              " 'households',\n",
              " 'median_income',\n",
              " 'median_house_value',\n",
              " 'ocean_proximity']"
            ]
          },
          "execution_count": 112,
          "metadata": {},
          "output_type": "execute_result"
        }
      ],
      "source": [
        "#Review the columns\n",
        "housing_df.columns.tolist()"
      ]
    },
    {
      "cell_type": "code",
      "execution_count": null,
      "metadata": {
        "id": "dAWLZKPE3XP9",
        "outputId": "632e7895-cb3f-42b6-eb36-25136cdd283c"
      },
      "outputs": [
        {
          "data": {
            "text/plain": [
              "longitude             float64\n",
              "latitude              float64\n",
              "housing_median_age    float64\n",
              "total_rooms           float64\n",
              "total_bedrooms        float64\n",
              "population            float64\n",
              "households            float64\n",
              "median_income         float64\n",
              "median_house_value    float64\n",
              "ocean_proximity        object\n",
              "dtype: object"
            ]
          },
          "execution_count": 113,
          "metadata": {},
          "output_type": "execute_result"
        }
      ],
      "source": [
        "#Reviewing the data dtypes\n",
        "housing_df.dtypes"
      ]
    },
    {
      "cell_type": "markdown",
      "metadata": {
        "id": "v-aSU1hW3XP-"
      },
      "source": [
        "## Feature Engineering"
      ]
    },
    {
      "cell_type": "code",
      "execution_count": null,
      "metadata": {
        "id": "A0CRa99g3XP-"
      },
      "outputs": [],
      "source": [
        "housing_df['pop_density'] = housing_df['population'] / (housing_df['latitude'] * housing_df['longitude'])"
      ]
    },
    {
      "cell_type": "code",
      "execution_count": null,
      "metadata": {
        "id": "OAwmpEb03XP-"
      },
      "outputs": [],
      "source": [
        "housing_df['rooms_per_household'] = housing_df['total_rooms'] / housing_df['households']"
      ]
    },
    {
      "cell_type": "code",
      "execution_count": null,
      "metadata": {
        "id": "yGZTY6wA3XP_"
      },
      "outputs": [],
      "source": [
        "housing_df['bedrooms_per_room'] = housing_df['total_bedrooms'] / housing_df['total_rooms']"
      ]
    },
    {
      "cell_type": "code",
      "execution_count": null,
      "metadata": {
        "id": "nAf1l4P93XP_"
      },
      "outputs": [],
      "source": [
        "# Age of Housing Stock (categorizing into bins)\n",
        "bins = [0, 10, 20, 30, 40, 50, float('inf')]\n",
        "labels = ['0-10', '11-20', '21-30', '31-40', '41-50', '51+']\n",
        "housing_df['age_of_housing_stock'] = pd.cut(housing_df['housing_median_age'], bins=bins, labels=labels)"
      ]
    },
    {
      "cell_type": "code",
      "execution_count": null,
      "metadata": {
        "id": "VKOqPDj33XP_"
      },
      "outputs": [],
      "source": [
        "# Interaction Terms\n",
        "housing_df['income_times_age'] = housing_df['median_income'] * housing_df['housing_median_age']"
      ]
    },
    {
      "cell_type": "code",
      "execution_count": null,
      "metadata": {
        "id": "F00UNSUe3XQB"
      },
      "outputs": [],
      "source": [
        "# Median Income Categories\n",
        "income_bins = [0, 3, 6, 9, 12, float('inf')]\n",
        "income_labels = ['Low', 'Lower Middle', 'Middle', 'Upper Middle', 'High']\n",
        "housing_df['income_category'] = pd.cut(housing_df['median_income'], bins=income_bins, labels=income_labels)"
      ]
    },
    {
      "cell_type": "code",
      "execution_count": null,
      "metadata": {
        "id": "CxSrg3GA3XQB"
      },
      "outputs": [],
      "source": [
        "# Concatenating longitude and latitude into a new column named 'coordinates'\n",
        "housing_df['coordinates'] = housing_df['longitude'].astype(str) + ',' + housing_df['latitude'].astype(str)"
      ]
    },
    {
      "cell_type": "code",
      "execution_count": null,
      "metadata": {
        "id": "LiS1nuM93XQB",
        "outputId": "1621e7f5-5b47-4731-e28d-44e656ed05bc"
      },
      "outputs": [
        {
          "name": "stdout",
          "output_type": "stream",
          "text": [
            "<class 'pandas.core.frame.DataFrame'>\n",
            "RangeIndex: 20640 entries, 0 to 20639\n",
            "Data columns (total 16 columns):\n",
            " #   Column                Non-Null Count  Dtype   \n",
            "---  ------                --------------  -----   \n",
            " 0   longitude             20640 non-null  float64 \n",
            " 1   latitude              20640 non-null  float64 \n",
            " 2   housing_median_age    20640 non-null  float64 \n",
            " 3   total_rooms           20640 non-null  float64 \n",
            " 4   total_bedrooms        20433 non-null  float64 \n",
            " 5   population            20640 non-null  float64 \n",
            " 6   households            20640 non-null  float64 \n",
            " 7   median_income         20640 non-null  float64 \n",
            " 8   median_house_value    20640 non-null  float64 \n",
            " 9   ocean_proximity       20640 non-null  object  \n",
            " 10  pop_density           20640 non-null  float64 \n",
            " 11  rooms_per_household   20640 non-null  float64 \n",
            " 12  bedrooms_per_room     20433 non-null  float64 \n",
            " 13  age_of_housing_stock  20640 non-null  category\n",
            " 14  income_times_age      20640 non-null  float64 \n",
            " 15  income_category       20640 non-null  category\n",
            "dtypes: category(2), float64(13), object(1)\n",
            "memory usage: 2.2+ MB\n"
          ]
        }
      ],
      "source": [
        "housing_df.info()"
      ]
    },
    {
      "cell_type": "markdown",
      "metadata": {
        "id": "L4pSJY813XQB"
      },
      "source": [
        "## Data Exploration continued"
      ]
    },
    {
      "cell_type": "code",
      "execution_count": null,
      "metadata": {
        "id": "w21e8xr13XQB",
        "outputId": "475acaf0-4735-4e60-b426-929694d5e1d7"
      },
      "outputs": [
        {
          "data": {
            "text/html": [
              "<div>\n",
              "<style scoped>\n",
              "    .dataframe tbody tr th:only-of-type {\n",
              "        vertical-align: middle;\n",
              "    }\n",
              "\n",
              "    .dataframe tbody tr th {\n",
              "        vertical-align: top;\n",
              "    }\n",
              "\n",
              "    .dataframe thead th {\n",
              "        text-align: right;\n",
              "    }\n",
              "</style>\n",
              "<table border=\"1\" class=\"dataframe\">\n",
              "  <thead>\n",
              "    <tr style=\"text-align: right;\">\n",
              "      <th></th>\n",
              "      <th>longitude</th>\n",
              "      <th>latitude</th>\n",
              "      <th>housing_median_age</th>\n",
              "      <th>total_rooms</th>\n",
              "      <th>total_bedrooms</th>\n",
              "      <th>population</th>\n",
              "      <th>households</th>\n",
              "      <th>median_income</th>\n",
              "      <th>median_house_value</th>\n",
              "      <th>ocean_proximity</th>\n",
              "      <th>pop_density</th>\n",
              "      <th>rooms_per_household</th>\n",
              "      <th>bedrooms_per_room</th>\n",
              "      <th>age_of_housing_stock</th>\n",
              "      <th>income_times_age</th>\n",
              "      <th>income_category</th>\n",
              "    </tr>\n",
              "  </thead>\n",
              "  <tbody>\n",
              "    <tr>\n",
              "      <th>0</th>\n",
              "      <td>-122.23</td>\n",
              "      <td>37.88</td>\n",
              "      <td>41.0</td>\n",
              "      <td>880.0</td>\n",
              "      <td>129.0</td>\n",
              "      <td>322.0</td>\n",
              "      <td>126.0</td>\n",
              "      <td>8.3252</td>\n",
              "      <td>452600.0</td>\n",
              "      <td>NEAR BAY</td>\n",
              "      <td>-0.069545</td>\n",
              "      <td>6.984127</td>\n",
              "      <td>0.146591</td>\n",
              "      <td>41-50</td>\n",
              "      <td>341.3332</td>\n",
              "      <td>Middle</td>\n",
              "    </tr>\n",
              "    <tr>\n",
              "      <th>1</th>\n",
              "      <td>-122.22</td>\n",
              "      <td>37.86</td>\n",
              "      <td>21.0</td>\n",
              "      <td>7099.0</td>\n",
              "      <td>1106.0</td>\n",
              "      <td>2401.0</td>\n",
              "      <td>1138.0</td>\n",
              "      <td>8.3014</td>\n",
              "      <td>358500.0</td>\n",
              "      <td>NEAR BAY</td>\n",
              "      <td>-0.518883</td>\n",
              "      <td>6.238137</td>\n",
              "      <td>0.155797</td>\n",
              "      <td>21-30</td>\n",
              "      <td>174.3294</td>\n",
              "      <td>Middle</td>\n",
              "    </tr>\n",
              "    <tr>\n",
              "      <th>2</th>\n",
              "      <td>-122.24</td>\n",
              "      <td>37.85</td>\n",
              "      <td>52.0</td>\n",
              "      <td>1467.0</td>\n",
              "      <td>190.0</td>\n",
              "      <td>496.0</td>\n",
              "      <td>177.0</td>\n",
              "      <td>7.2574</td>\n",
              "      <td>352100.0</td>\n",
              "      <td>NEAR BAY</td>\n",
              "      <td>-0.107202</td>\n",
              "      <td>8.288136</td>\n",
              "      <td>0.129516</td>\n",
              "      <td>51+</td>\n",
              "      <td>377.3848</td>\n",
              "      <td>Middle</td>\n",
              "    </tr>\n",
              "    <tr>\n",
              "      <th>3</th>\n",
              "      <td>-122.25</td>\n",
              "      <td>37.85</td>\n",
              "      <td>52.0</td>\n",
              "      <td>1274.0</td>\n",
              "      <td>235.0</td>\n",
              "      <td>558.0</td>\n",
              "      <td>219.0</td>\n",
              "      <td>5.6431</td>\n",
              "      <td>341300.0</td>\n",
              "      <td>NEAR BAY</td>\n",
              "      <td>-0.120592</td>\n",
              "      <td>5.817352</td>\n",
              "      <td>0.184458</td>\n",
              "      <td>51+</td>\n",
              "      <td>293.4412</td>\n",
              "      <td>Lower Middle</td>\n",
              "    </tr>\n",
              "    <tr>\n",
              "      <th>4</th>\n",
              "      <td>-122.25</td>\n",
              "      <td>37.85</td>\n",
              "      <td>52.0</td>\n",
              "      <td>1627.0</td>\n",
              "      <td>280.0</td>\n",
              "      <td>565.0</td>\n",
              "      <td>259.0</td>\n",
              "      <td>3.8462</td>\n",
              "      <td>342200.0</td>\n",
              "      <td>NEAR BAY</td>\n",
              "      <td>-0.122105</td>\n",
              "      <td>6.281853</td>\n",
              "      <td>0.172096</td>\n",
              "      <td>51+</td>\n",
              "      <td>200.0024</td>\n",
              "      <td>Lower Middle</td>\n",
              "    </tr>\n",
              "    <tr>\n",
              "      <th>5</th>\n",
              "      <td>-122.25</td>\n",
              "      <td>37.85</td>\n",
              "      <td>52.0</td>\n",
              "      <td>919.0</td>\n",
              "      <td>213.0</td>\n",
              "      <td>413.0</td>\n",
              "      <td>193.0</td>\n",
              "      <td>4.0368</td>\n",
              "      <td>269700.0</td>\n",
              "      <td>NEAR BAY</td>\n",
              "      <td>-0.089256</td>\n",
              "      <td>4.761658</td>\n",
              "      <td>0.231774</td>\n",
              "      <td>51+</td>\n",
              "      <td>209.9136</td>\n",
              "      <td>Lower Middle</td>\n",
              "    </tr>\n",
              "    <tr>\n",
              "      <th>6</th>\n",
              "      <td>-122.25</td>\n",
              "      <td>37.84</td>\n",
              "      <td>52.0</td>\n",
              "      <td>2535.0</td>\n",
              "      <td>489.0</td>\n",
              "      <td>1094.0</td>\n",
              "      <td>514.0</td>\n",
              "      <td>3.6591</td>\n",
              "      <td>299200.0</td>\n",
              "      <td>NEAR BAY</td>\n",
              "      <td>-0.236492</td>\n",
              "      <td>4.931907</td>\n",
              "      <td>0.192899</td>\n",
              "      <td>51+</td>\n",
              "      <td>190.2732</td>\n",
              "      <td>Lower Middle</td>\n",
              "    </tr>\n",
              "    <tr>\n",
              "      <th>7</th>\n",
              "      <td>-122.25</td>\n",
              "      <td>37.84</td>\n",
              "      <td>52.0</td>\n",
              "      <td>3104.0</td>\n",
              "      <td>687.0</td>\n",
              "      <td>1157.0</td>\n",
              "      <td>647.0</td>\n",
              "      <td>3.1200</td>\n",
              "      <td>241400.0</td>\n",
              "      <td>NEAR BAY</td>\n",
              "      <td>-0.250111</td>\n",
              "      <td>4.797527</td>\n",
              "      <td>0.221327</td>\n",
              "      <td>51+</td>\n",
              "      <td>162.2400</td>\n",
              "      <td>Lower Middle</td>\n",
              "    </tr>\n",
              "    <tr>\n",
              "      <th>8</th>\n",
              "      <td>-122.26</td>\n",
              "      <td>37.84</td>\n",
              "      <td>42.0</td>\n",
              "      <td>2555.0</td>\n",
              "      <td>665.0</td>\n",
              "      <td>1206.0</td>\n",
              "      <td>595.0</td>\n",
              "      <td>2.0804</td>\n",
              "      <td>226700.0</td>\n",
              "      <td>NEAR BAY</td>\n",
              "      <td>-0.260682</td>\n",
              "      <td>4.294118</td>\n",
              "      <td>0.260274</td>\n",
              "      <td>41-50</td>\n",
              "      <td>87.3768</td>\n",
              "      <td>Low</td>\n",
              "    </tr>\n",
              "    <tr>\n",
              "      <th>9</th>\n",
              "      <td>-122.25</td>\n",
              "      <td>37.84</td>\n",
              "      <td>52.0</td>\n",
              "      <td>3549.0</td>\n",
              "      <td>707.0</td>\n",
              "      <td>1551.0</td>\n",
              "      <td>714.0</td>\n",
              "      <td>3.6912</td>\n",
              "      <td>261100.0</td>\n",
              "      <td>NEAR BAY</td>\n",
              "      <td>-0.335283</td>\n",
              "      <td>4.970588</td>\n",
              "      <td>0.199211</td>\n",
              "      <td>51+</td>\n",
              "      <td>191.9424</td>\n",
              "      <td>Lower Middle</td>\n",
              "    </tr>\n",
              "  </tbody>\n",
              "</table>\n",
              "</div>"
            ],
            "text/plain": [
              "   longitude  latitude  housing_median_age  total_rooms  total_bedrooms  \\\n",
              "0    -122.23     37.88                41.0        880.0           129.0   \n",
              "1    -122.22     37.86                21.0       7099.0          1106.0   \n",
              "2    -122.24     37.85                52.0       1467.0           190.0   \n",
              "3    -122.25     37.85                52.0       1274.0           235.0   \n",
              "4    -122.25     37.85                52.0       1627.0           280.0   \n",
              "5    -122.25     37.85                52.0        919.0           213.0   \n",
              "6    -122.25     37.84                52.0       2535.0           489.0   \n",
              "7    -122.25     37.84                52.0       3104.0           687.0   \n",
              "8    -122.26     37.84                42.0       2555.0           665.0   \n",
              "9    -122.25     37.84                52.0       3549.0           707.0   \n",
              "\n",
              "   population  households  median_income  median_house_value ocean_proximity  \\\n",
              "0       322.0       126.0         8.3252            452600.0        NEAR BAY   \n",
              "1      2401.0      1138.0         8.3014            358500.0        NEAR BAY   \n",
              "2       496.0       177.0         7.2574            352100.0        NEAR BAY   \n",
              "3       558.0       219.0         5.6431            341300.0        NEAR BAY   \n",
              "4       565.0       259.0         3.8462            342200.0        NEAR BAY   \n",
              "5       413.0       193.0         4.0368            269700.0        NEAR BAY   \n",
              "6      1094.0       514.0         3.6591            299200.0        NEAR BAY   \n",
              "7      1157.0       647.0         3.1200            241400.0        NEAR BAY   \n",
              "8      1206.0       595.0         2.0804            226700.0        NEAR BAY   \n",
              "9      1551.0       714.0         3.6912            261100.0        NEAR BAY   \n",
              "\n",
              "   pop_density  rooms_per_household  bedrooms_per_room age_of_housing_stock  \\\n",
              "0    -0.069545             6.984127           0.146591                41-50   \n",
              "1    -0.518883             6.238137           0.155797                21-30   \n",
              "2    -0.107202             8.288136           0.129516                  51+   \n",
              "3    -0.120592             5.817352           0.184458                  51+   \n",
              "4    -0.122105             6.281853           0.172096                  51+   \n",
              "5    -0.089256             4.761658           0.231774                  51+   \n",
              "6    -0.236492             4.931907           0.192899                  51+   \n",
              "7    -0.250111             4.797527           0.221327                  51+   \n",
              "8    -0.260682             4.294118           0.260274                41-50   \n",
              "9    -0.335283             4.970588           0.199211                  51+   \n",
              "\n",
              "   income_times_age income_category  \n",
              "0          341.3332          Middle  \n",
              "1          174.3294          Middle  \n",
              "2          377.3848          Middle  \n",
              "3          293.4412    Lower Middle  \n",
              "4          200.0024    Lower Middle  \n",
              "5          209.9136    Lower Middle  \n",
              "6          190.2732    Lower Middle  \n",
              "7          162.2400    Lower Middle  \n",
              "8           87.3768             Low  \n",
              "9          191.9424    Lower Middle  "
            ]
          },
          "execution_count": 122,
          "metadata": {},
          "output_type": "execute_result"
        }
      ],
      "source": [
        "housing_df.head(10)"
      ]
    },
    {
      "cell_type": "code",
      "execution_count": null,
      "metadata": {
        "id": "HE2aTzHl3XQC",
        "outputId": "6101ece3-fb93-4c41-a933-6670d41c9477"
      },
      "outputs": [
        {
          "data": {
            "text/html": [
              "<div>\n",
              "<style scoped>\n",
              "    .dataframe tbody tr th:only-of-type {\n",
              "        vertical-align: middle;\n",
              "    }\n",
              "\n",
              "    .dataframe tbody tr th {\n",
              "        vertical-align: top;\n",
              "    }\n",
              "\n",
              "    .dataframe thead th {\n",
              "        text-align: right;\n",
              "    }\n",
              "</style>\n",
              "<table border=\"1\" class=\"dataframe\">\n",
              "  <thead>\n",
              "    <tr style=\"text-align: right;\">\n",
              "      <th></th>\n",
              "      <th>longitude</th>\n",
              "      <th>latitude</th>\n",
              "      <th>housing_median_age</th>\n",
              "      <th>total_rooms</th>\n",
              "      <th>total_bedrooms</th>\n",
              "      <th>population</th>\n",
              "      <th>households</th>\n",
              "      <th>median_income</th>\n",
              "      <th>median_house_value</th>\n",
              "      <th>ocean_proximity</th>\n",
              "      <th>pop_density</th>\n",
              "      <th>rooms_per_household</th>\n",
              "      <th>bedrooms_per_room</th>\n",
              "      <th>age_of_housing_stock</th>\n",
              "      <th>income_times_age</th>\n",
              "      <th>income_category</th>\n",
              "    </tr>\n",
              "  </thead>\n",
              "  <tbody>\n",
              "    <tr>\n",
              "      <th>20630</th>\n",
              "      <td>-121.32</td>\n",
              "      <td>39.29</td>\n",
              "      <td>11.0</td>\n",
              "      <td>2640.0</td>\n",
              "      <td>505.0</td>\n",
              "      <td>1257.0</td>\n",
              "      <td>445.0</td>\n",
              "      <td>3.5673</td>\n",
              "      <td>112000.0</td>\n",
              "      <td>INLAND</td>\n",
              "      <td>-0.263707</td>\n",
              "      <td>5.932584</td>\n",
              "      <td>0.191288</td>\n",
              "      <td>11-20</td>\n",
              "      <td>39.2403</td>\n",
              "      <td>Lower Middle</td>\n",
              "    </tr>\n",
              "    <tr>\n",
              "      <th>20631</th>\n",
              "      <td>-121.40</td>\n",
              "      <td>39.33</td>\n",
              "      <td>15.0</td>\n",
              "      <td>2655.0</td>\n",
              "      <td>493.0</td>\n",
              "      <td>1200.0</td>\n",
              "      <td>432.0</td>\n",
              "      <td>3.5179</td>\n",
              "      <td>107200.0</td>\n",
              "      <td>INLAND</td>\n",
              "      <td>-0.251327</td>\n",
              "      <td>6.145833</td>\n",
              "      <td>0.185687</td>\n",
              "      <td>11-20</td>\n",
              "      <td>52.7685</td>\n",
              "      <td>Lower Middle</td>\n",
              "    </tr>\n",
              "    <tr>\n",
              "      <th>20632</th>\n",
              "      <td>-121.45</td>\n",
              "      <td>39.26</td>\n",
              "      <td>15.0</td>\n",
              "      <td>2319.0</td>\n",
              "      <td>416.0</td>\n",
              "      <td>1047.0</td>\n",
              "      <td>385.0</td>\n",
              "      <td>3.1250</td>\n",
              "      <td>115600.0</td>\n",
              "      <td>INLAND</td>\n",
              "      <td>-0.219583</td>\n",
              "      <td>6.023377</td>\n",
              "      <td>0.179388</td>\n",
              "      <td>11-20</td>\n",
              "      <td>46.8750</td>\n",
              "      <td>Lower Middle</td>\n",
              "    </tr>\n",
              "    <tr>\n",
              "      <th>20633</th>\n",
              "      <td>-121.53</td>\n",
              "      <td>39.19</td>\n",
              "      <td>27.0</td>\n",
              "      <td>2080.0</td>\n",
              "      <td>412.0</td>\n",
              "      <td>1082.0</td>\n",
              "      <td>382.0</td>\n",
              "      <td>2.5495</td>\n",
              "      <td>98300.0</td>\n",
              "      <td>INLAND</td>\n",
              "      <td>-0.227179</td>\n",
              "      <td>5.445026</td>\n",
              "      <td>0.198077</td>\n",
              "      <td>21-30</td>\n",
              "      <td>68.8365</td>\n",
              "      <td>Low</td>\n",
              "    </tr>\n",
              "    <tr>\n",
              "      <th>20634</th>\n",
              "      <td>-121.56</td>\n",
              "      <td>39.27</td>\n",
              "      <td>28.0</td>\n",
              "      <td>2332.0</td>\n",
              "      <td>395.0</td>\n",
              "      <td>1041.0</td>\n",
              "      <td>344.0</td>\n",
              "      <td>3.7125</td>\n",
              "      <td>116800.0</td>\n",
              "      <td>INLAND</td>\n",
              "      <td>-0.218072</td>\n",
              "      <td>6.779070</td>\n",
              "      <td>0.169383</td>\n",
              "      <td>21-30</td>\n",
              "      <td>103.9500</td>\n",
              "      <td>Lower Middle</td>\n",
              "    </tr>\n",
              "    <tr>\n",
              "      <th>20635</th>\n",
              "      <td>-121.09</td>\n",
              "      <td>39.48</td>\n",
              "      <td>25.0</td>\n",
              "      <td>1665.0</td>\n",
              "      <td>374.0</td>\n",
              "      <td>845.0</td>\n",
              "      <td>330.0</td>\n",
              "      <td>1.5603</td>\n",
              "      <td>78100.0</td>\n",
              "      <td>INLAND</td>\n",
              "      <td>-0.176755</td>\n",
              "      <td>5.045455</td>\n",
              "      <td>0.224625</td>\n",
              "      <td>21-30</td>\n",
              "      <td>39.0075</td>\n",
              "      <td>Low</td>\n",
              "    </tr>\n",
              "    <tr>\n",
              "      <th>20636</th>\n",
              "      <td>-121.21</td>\n",
              "      <td>39.49</td>\n",
              "      <td>18.0</td>\n",
              "      <td>697.0</td>\n",
              "      <td>150.0</td>\n",
              "      <td>356.0</td>\n",
              "      <td>114.0</td>\n",
              "      <td>2.5568</td>\n",
              "      <td>77100.0</td>\n",
              "      <td>INLAND</td>\n",
              "      <td>-0.074375</td>\n",
              "      <td>6.114035</td>\n",
              "      <td>0.215208</td>\n",
              "      <td>11-20</td>\n",
              "      <td>46.0224</td>\n",
              "      <td>Low</td>\n",
              "    </tr>\n",
              "    <tr>\n",
              "      <th>20637</th>\n",
              "      <td>-121.22</td>\n",
              "      <td>39.43</td>\n",
              "      <td>17.0</td>\n",
              "      <td>2254.0</td>\n",
              "      <td>485.0</td>\n",
              "      <td>1007.0</td>\n",
              "      <td>433.0</td>\n",
              "      <td>1.7000</td>\n",
              "      <td>92300.0</td>\n",
              "      <td>INLAND</td>\n",
              "      <td>-0.210682</td>\n",
              "      <td>5.205543</td>\n",
              "      <td>0.215173</td>\n",
              "      <td>11-20</td>\n",
              "      <td>28.9000</td>\n",
              "      <td>Low</td>\n",
              "    </tr>\n",
              "    <tr>\n",
              "      <th>20638</th>\n",
              "      <td>-121.32</td>\n",
              "      <td>39.43</td>\n",
              "      <td>18.0</td>\n",
              "      <td>1860.0</td>\n",
              "      <td>409.0</td>\n",
              "      <td>741.0</td>\n",
              "      <td>349.0</td>\n",
              "      <td>1.8672</td>\n",
              "      <td>84700.0</td>\n",
              "      <td>INLAND</td>\n",
              "      <td>-0.154903</td>\n",
              "      <td>5.329513</td>\n",
              "      <td>0.219892</td>\n",
              "      <td>11-20</td>\n",
              "      <td>33.6096</td>\n",
              "      <td>Low</td>\n",
              "    </tr>\n",
              "    <tr>\n",
              "      <th>20639</th>\n",
              "      <td>-121.24</td>\n",
              "      <td>39.37</td>\n",
              "      <td>16.0</td>\n",
              "      <td>2785.0</td>\n",
              "      <td>616.0</td>\n",
              "      <td>1387.0</td>\n",
              "      <td>530.0</td>\n",
              "      <td>2.3886</td>\n",
              "      <td>89400.0</td>\n",
              "      <td>INLAND</td>\n",
              "      <td>-0.290580</td>\n",
              "      <td>5.254717</td>\n",
              "      <td>0.221185</td>\n",
              "      <td>11-20</td>\n",
              "      <td>38.2176</td>\n",
              "      <td>Low</td>\n",
              "    </tr>\n",
              "  </tbody>\n",
              "</table>\n",
              "</div>"
            ],
            "text/plain": [
              "       longitude  latitude  housing_median_age  total_rooms  total_bedrooms  \\\n",
              "20630    -121.32     39.29                11.0       2640.0           505.0   \n",
              "20631    -121.40     39.33                15.0       2655.0           493.0   \n",
              "20632    -121.45     39.26                15.0       2319.0           416.0   \n",
              "20633    -121.53     39.19                27.0       2080.0           412.0   \n",
              "20634    -121.56     39.27                28.0       2332.0           395.0   \n",
              "20635    -121.09     39.48                25.0       1665.0           374.0   \n",
              "20636    -121.21     39.49                18.0        697.0           150.0   \n",
              "20637    -121.22     39.43                17.0       2254.0           485.0   \n",
              "20638    -121.32     39.43                18.0       1860.0           409.0   \n",
              "20639    -121.24     39.37                16.0       2785.0           616.0   \n",
              "\n",
              "       population  households  median_income  median_house_value  \\\n",
              "20630      1257.0       445.0         3.5673            112000.0   \n",
              "20631      1200.0       432.0         3.5179            107200.0   \n",
              "20632      1047.0       385.0         3.1250            115600.0   \n",
              "20633      1082.0       382.0         2.5495             98300.0   \n",
              "20634      1041.0       344.0         3.7125            116800.0   \n",
              "20635       845.0       330.0         1.5603             78100.0   \n",
              "20636       356.0       114.0         2.5568             77100.0   \n",
              "20637      1007.0       433.0         1.7000             92300.0   \n",
              "20638       741.0       349.0         1.8672             84700.0   \n",
              "20639      1387.0       530.0         2.3886             89400.0   \n",
              "\n",
              "      ocean_proximity  pop_density  rooms_per_household  bedrooms_per_room  \\\n",
              "20630          INLAND    -0.263707             5.932584           0.191288   \n",
              "20631          INLAND    -0.251327             6.145833           0.185687   \n",
              "20632          INLAND    -0.219583             6.023377           0.179388   \n",
              "20633          INLAND    -0.227179             5.445026           0.198077   \n",
              "20634          INLAND    -0.218072             6.779070           0.169383   \n",
              "20635          INLAND    -0.176755             5.045455           0.224625   \n",
              "20636          INLAND    -0.074375             6.114035           0.215208   \n",
              "20637          INLAND    -0.210682             5.205543           0.215173   \n",
              "20638          INLAND    -0.154903             5.329513           0.219892   \n",
              "20639          INLAND    -0.290580             5.254717           0.221185   \n",
              "\n",
              "      age_of_housing_stock  income_times_age income_category  \n",
              "20630                11-20           39.2403    Lower Middle  \n",
              "20631                11-20           52.7685    Lower Middle  \n",
              "20632                11-20           46.8750    Lower Middle  \n",
              "20633                21-30           68.8365             Low  \n",
              "20634                21-30          103.9500    Lower Middle  \n",
              "20635                21-30           39.0075             Low  \n",
              "20636                11-20           46.0224             Low  \n",
              "20637                11-20           28.9000             Low  \n",
              "20638                11-20           33.6096             Low  \n",
              "20639                11-20           38.2176             Low  "
            ]
          },
          "execution_count": 123,
          "metadata": {},
          "output_type": "execute_result"
        }
      ],
      "source": [
        "housing_df.tail(10)"
      ]
    },
    {
      "cell_type": "code",
      "execution_count": null,
      "metadata": {
        "id": "lKA0qmC73XQC",
        "outputId": "1b72f2ca-896b-4d22-a918-edd5dd96eae9"
      },
      "outputs": [
        {
          "data": {
            "text/plain": [
              "(20640, 16)"
            ]
          },
          "execution_count": 124,
          "metadata": {},
          "output_type": "execute_result"
        }
      ],
      "source": [
        "housing_df.shape"
      ]
    },
    {
      "cell_type": "code",
      "execution_count": null,
      "metadata": {
        "id": "lfuvDNsH3XQC",
        "outputId": "94e2cba7-ebf3-478b-fda3-b8053b326552"
      },
      "outputs": [
        {
          "data": {
            "text/html": [
              "<div>\n",
              "<style scoped>\n",
              "    .dataframe tbody tr th:only-of-type {\n",
              "        vertical-align: middle;\n",
              "    }\n",
              "\n",
              "    .dataframe tbody tr th {\n",
              "        vertical-align: top;\n",
              "    }\n",
              "\n",
              "    .dataframe thead th {\n",
              "        text-align: right;\n",
              "    }\n",
              "</style>\n",
              "<table border=\"1\" class=\"dataframe\">\n",
              "  <thead>\n",
              "    <tr style=\"text-align: right;\">\n",
              "      <th></th>\n",
              "      <th>longitude</th>\n",
              "      <th>latitude</th>\n",
              "      <th>housing_median_age</th>\n",
              "      <th>total_rooms</th>\n",
              "      <th>total_bedrooms</th>\n",
              "      <th>population</th>\n",
              "      <th>households</th>\n",
              "      <th>median_income</th>\n",
              "      <th>median_house_value</th>\n",
              "      <th>pop_density</th>\n",
              "      <th>rooms_per_household</th>\n",
              "      <th>bedrooms_per_room</th>\n",
              "      <th>income_times_age</th>\n",
              "    </tr>\n",
              "  </thead>\n",
              "  <tbody>\n",
              "    <tr>\n",
              "      <th>longitude</th>\n",
              "      <td>1.000000</td>\n",
              "      <td>-0.924664</td>\n",
              "      <td>-0.108197</td>\n",
              "      <td>0.044568</td>\n",
              "      <td>0.069608</td>\n",
              "      <td>0.099773</td>\n",
              "      <td>0.055310</td>\n",
              "      <td>-0.015176</td>\n",
              "      <td>-0.045967</td>\n",
              "      <td>-0.180805</td>\n",
              "      <td>-0.027540</td>\n",
              "      <td>0.092657</td>\n",
              "      <td>-0.085893</td>\n",
              "    </tr>\n",
              "    <tr>\n",
              "      <th>latitude</th>\n",
              "      <td>-0.924664</td>\n",
              "      <td>1.000000</td>\n",
              "      <td>0.011173</td>\n",
              "      <td>-0.036100</td>\n",
              "      <td>-0.066983</td>\n",
              "      <td>-0.108785</td>\n",
              "      <td>-0.071035</td>\n",
              "      <td>-0.079809</td>\n",
              "      <td>-0.144160</td>\n",
              "      <td>0.191007</td>\n",
              "      <td>0.106389</td>\n",
              "      <td>-0.113815</td>\n",
              "      <td>-0.041991</td>\n",
              "    </tr>\n",
              "    <tr>\n",
              "      <th>housing_median_age</th>\n",
              "      <td>-0.108197</td>\n",
              "      <td>0.011173</td>\n",
              "      <td>1.000000</td>\n",
              "      <td>-0.361262</td>\n",
              "      <td>-0.320451</td>\n",
              "      <td>-0.296244</td>\n",
              "      <td>-0.302916</td>\n",
              "      <td>-0.119034</td>\n",
              "      <td>0.105623</td>\n",
              "      <td>0.294034</td>\n",
              "      <td>-0.153277</td>\n",
              "      <td>0.136089</td>\n",
              "      <td>0.586782</td>\n",
              "    </tr>\n",
              "    <tr>\n",
              "      <th>total_rooms</th>\n",
              "      <td>0.044568</td>\n",
              "      <td>-0.036100</td>\n",
              "      <td>-0.361262</td>\n",
              "      <td>1.000000</td>\n",
              "      <td>0.930380</td>\n",
              "      <td>0.857126</td>\n",
              "      <td>0.918484</td>\n",
              "      <td>0.198050</td>\n",
              "      <td>0.134153</td>\n",
              "      <td>-0.845725</td>\n",
              "      <td>0.133798</td>\n",
              "      <td>-0.187900</td>\n",
              "      <td>-0.120759</td>\n",
              "    </tr>\n",
              "    <tr>\n",
              "      <th>total_bedrooms</th>\n",
              "      <td>0.069608</td>\n",
              "      <td>-0.066983</td>\n",
              "      <td>-0.320451</td>\n",
              "      <td>0.930380</td>\n",
              "      <td>1.000000</td>\n",
              "      <td>0.877747</td>\n",
              "      <td>0.979728</td>\n",
              "      <td>-0.007723</td>\n",
              "      <td>0.049686</td>\n",
              "      <td>-0.869501</td>\n",
              "      <td>0.001538</td>\n",
              "      <td>0.084238</td>\n",
              "      <td>-0.227621</td>\n",
              "    </tr>\n",
              "    <tr>\n",
              "      <th>population</th>\n",
              "      <td>0.099773</td>\n",
              "      <td>-0.108785</td>\n",
              "      <td>-0.296244</td>\n",
              "      <td>0.857126</td>\n",
              "      <td>0.877747</td>\n",
              "      <td>1.000000</td>\n",
              "      <td>0.907222</td>\n",
              "      <td>0.004834</td>\n",
              "      <td>-0.024650</td>\n",
              "      <td>-0.994098</td>\n",
              "      <td>-0.072213</td>\n",
              "      <td>0.035319</td>\n",
              "      <td>-0.214107</td>\n",
              "    </tr>\n",
              "    <tr>\n",
              "      <th>households</th>\n",
              "      <td>0.055310</td>\n",
              "      <td>-0.071035</td>\n",
              "      <td>-0.302916</td>\n",
              "      <td>0.918484</td>\n",
              "      <td>0.979728</td>\n",
              "      <td>0.907222</td>\n",
              "      <td>1.000000</td>\n",
              "      <td>0.013033</td>\n",
              "      <td>0.065843</td>\n",
              "      <td>-0.897222</td>\n",
              "      <td>-0.080598</td>\n",
              "      <td>0.065087</td>\n",
              "      <td>-0.203012</td>\n",
              "    </tr>\n",
              "    <tr>\n",
              "      <th>median_income</th>\n",
              "      <td>-0.015176</td>\n",
              "      <td>-0.079809</td>\n",
              "      <td>-0.119034</td>\n",
              "      <td>0.198050</td>\n",
              "      <td>-0.007723</td>\n",
              "      <td>0.004834</td>\n",
              "      <td>0.013033</td>\n",
              "      <td>1.000000</td>\n",
              "      <td>0.688075</td>\n",
              "      <td>-0.006424</td>\n",
              "      <td>0.326895</td>\n",
              "      <td>-0.615661</td>\n",
              "      <td>0.660081</td>\n",
              "    </tr>\n",
              "    <tr>\n",
              "      <th>median_house_value</th>\n",
              "      <td>-0.045967</td>\n",
              "      <td>-0.144160</td>\n",
              "      <td>0.105623</td>\n",
              "      <td>0.134153</td>\n",
              "      <td>0.049686</td>\n",
              "      <td>-0.024650</td>\n",
              "      <td>0.065843</td>\n",
              "      <td>0.688075</td>\n",
              "      <td>1.000000</td>\n",
              "      <td>0.019535</td>\n",
              "      <td>0.151948</td>\n",
              "      <td>-0.255880</td>\n",
              "      <td>0.589142</td>\n",
              "    </tr>\n",
              "    <tr>\n",
              "      <th>pop_density</th>\n",
              "      <td>-0.180805</td>\n",
              "      <td>0.191007</td>\n",
              "      <td>0.294034</td>\n",
              "      <td>-0.845725</td>\n",
              "      <td>-0.869501</td>\n",
              "      <td>-0.994098</td>\n",
              "      <td>-0.897222</td>\n",
              "      <td>-0.006424</td>\n",
              "      <td>0.019535</td>\n",
              "      <td>1.000000</td>\n",
              "      <td>0.075343</td>\n",
              "      <td>-0.045937</td>\n",
              "      <td>0.211875</td>\n",
              "    </tr>\n",
              "    <tr>\n",
              "      <th>rooms_per_household</th>\n",
              "      <td>-0.027540</td>\n",
              "      <td>0.106389</td>\n",
              "      <td>-0.153277</td>\n",
              "      <td>0.133798</td>\n",
              "      <td>0.001538</td>\n",
              "      <td>-0.072213</td>\n",
              "      <td>-0.080598</td>\n",
              "      <td>0.326895</td>\n",
              "      <td>0.151948</td>\n",
              "      <td>0.075343</td>\n",
              "      <td>1.000000</td>\n",
              "      <td>-0.416952</td>\n",
              "      <td>0.137815</td>\n",
              "    </tr>\n",
              "    <tr>\n",
              "      <th>bedrooms_per_room</th>\n",
              "      <td>0.092657</td>\n",
              "      <td>-0.113815</td>\n",
              "      <td>0.136089</td>\n",
              "      <td>-0.187900</td>\n",
              "      <td>0.084238</td>\n",
              "      <td>0.035319</td>\n",
              "      <td>0.065087</td>\n",
              "      <td>-0.615661</td>\n",
              "      <td>-0.255880</td>\n",
              "      <td>-0.045937</td>\n",
              "      <td>-0.416952</td>\n",
              "      <td>1.000000</td>\n",
              "      <td>-0.362881</td>\n",
              "    </tr>\n",
              "    <tr>\n",
              "      <th>income_times_age</th>\n",
              "      <td>-0.085893</td>\n",
              "      <td>-0.041991</td>\n",
              "      <td>0.586782</td>\n",
              "      <td>-0.120759</td>\n",
              "      <td>-0.227621</td>\n",
              "      <td>-0.214107</td>\n",
              "      <td>-0.203012</td>\n",
              "      <td>0.660081</td>\n",
              "      <td>0.589142</td>\n",
              "      <td>0.211875</td>\n",
              "      <td>0.137815</td>\n",
              "      <td>-0.362881</td>\n",
              "      <td>1.000000</td>\n",
              "    </tr>\n",
              "  </tbody>\n",
              "</table>\n",
              "</div>"
            ],
            "text/plain": [
              "                     longitude  latitude  housing_median_age  total_rooms  \\\n",
              "longitude             1.000000 -0.924664           -0.108197     0.044568   \n",
              "latitude             -0.924664  1.000000            0.011173    -0.036100   \n",
              "housing_median_age   -0.108197  0.011173            1.000000    -0.361262   \n",
              "total_rooms           0.044568 -0.036100           -0.361262     1.000000   \n",
              "total_bedrooms        0.069608 -0.066983           -0.320451     0.930380   \n",
              "population            0.099773 -0.108785           -0.296244     0.857126   \n",
              "households            0.055310 -0.071035           -0.302916     0.918484   \n",
              "median_income        -0.015176 -0.079809           -0.119034     0.198050   \n",
              "median_house_value   -0.045967 -0.144160            0.105623     0.134153   \n",
              "pop_density          -0.180805  0.191007            0.294034    -0.845725   \n",
              "rooms_per_household  -0.027540  0.106389           -0.153277     0.133798   \n",
              "bedrooms_per_room     0.092657 -0.113815            0.136089    -0.187900   \n",
              "income_times_age     -0.085893 -0.041991            0.586782    -0.120759   \n",
              "\n",
              "                     total_bedrooms  population  households  median_income  \\\n",
              "longitude                  0.069608    0.099773    0.055310      -0.015176   \n",
              "latitude                  -0.066983   -0.108785   -0.071035      -0.079809   \n",
              "housing_median_age        -0.320451   -0.296244   -0.302916      -0.119034   \n",
              "total_rooms                0.930380    0.857126    0.918484       0.198050   \n",
              "total_bedrooms             1.000000    0.877747    0.979728      -0.007723   \n",
              "population                 0.877747    1.000000    0.907222       0.004834   \n",
              "households                 0.979728    0.907222    1.000000       0.013033   \n",
              "median_income             -0.007723    0.004834    0.013033       1.000000   \n",
              "median_house_value         0.049686   -0.024650    0.065843       0.688075   \n",
              "pop_density               -0.869501   -0.994098   -0.897222      -0.006424   \n",
              "rooms_per_household        0.001538   -0.072213   -0.080598       0.326895   \n",
              "bedrooms_per_room          0.084238    0.035319    0.065087      -0.615661   \n",
              "income_times_age          -0.227621   -0.214107   -0.203012       0.660081   \n",
              "\n",
              "                     median_house_value  pop_density  rooms_per_household  \\\n",
              "longitude                     -0.045967    -0.180805            -0.027540   \n",
              "latitude                      -0.144160     0.191007             0.106389   \n",
              "housing_median_age             0.105623     0.294034            -0.153277   \n",
              "total_rooms                    0.134153    -0.845725             0.133798   \n",
              "total_bedrooms                 0.049686    -0.869501             0.001538   \n",
              "population                    -0.024650    -0.994098            -0.072213   \n",
              "households                     0.065843    -0.897222            -0.080598   \n",
              "median_income                  0.688075    -0.006424             0.326895   \n",
              "median_house_value             1.000000     0.019535             0.151948   \n",
              "pop_density                    0.019535     1.000000             0.075343   \n",
              "rooms_per_household            0.151948     0.075343             1.000000   \n",
              "bedrooms_per_room             -0.255880    -0.045937            -0.416952   \n",
              "income_times_age               0.589142     0.211875             0.137815   \n",
              "\n",
              "                     bedrooms_per_room  income_times_age  \n",
              "longitude                     0.092657         -0.085893  \n",
              "latitude                     -0.113815         -0.041991  \n",
              "housing_median_age            0.136089          0.586782  \n",
              "total_rooms                  -0.187900         -0.120759  \n",
              "total_bedrooms                0.084238         -0.227621  \n",
              "population                    0.035319         -0.214107  \n",
              "households                    0.065087         -0.203012  \n",
              "median_income                -0.615661          0.660081  \n",
              "median_house_value           -0.255880          0.589142  \n",
              "pop_density                  -0.045937          0.211875  \n",
              "rooms_per_household          -0.416952          0.137815  \n",
              "bedrooms_per_room             1.000000         -0.362881  \n",
              "income_times_age             -0.362881          1.000000  "
            ]
          },
          "execution_count": 135,
          "metadata": {},
          "output_type": "execute_result"
        }
      ],
      "source": [
        "#Calculate the correlation matrix\n",
        "correlation_matrix = housing_df.corr()\n",
        "correlation_matrix"
      ]
    },
    {
      "cell_type": "code",
      "execution_count": null,
      "metadata": {
        "id": "r71uY1D73XQC",
        "outputId": "5814b2a1-d754-48ca-fb0f-7ff7e0070c02"
      },
      "outputs": [
        {
          "data": {
            "image/png": "[encoded data removed]",
            "text/plain": [
              "<Figure size 800x600 with 2 Axes>"
            ]
          },
          "metadata": {},
          "output_type": "display_data"
        }
      ],
      "source": [
        "#Calculate the correlation matrix\n",
        "correlation_matrix = housing_df.corr()\n",
        "\n",
        "# Plot the heatmap\n",
        "plt.figure(figsize=(8, 6))\n",
        "sns.heatmap(correlation_matrix, annot=True, cmap='coolwarm', fmt=\".2f\", linewidths=.5)\n",
        "plt.title('Correlation Heatmap between Total Bedrooms and Households')\n",
        "plt.show()"
      ]
    },
    {
      "cell_type": "markdown",
      "metadata": {
        "id": "rtLvSfam3XQD"
      },
      "source": [
        "## Data Cleaning"
      ]
    },
    {
      "cell_type": "code",
      "execution_count": null,
      "metadata": {
        "id": "IQDj5kSJ3XQD",
        "outputId": "7a67295b-a5d5-49bf-d1d2-59ffcd5d927d"
      },
      "outputs": [
        {
          "data": {
            "text/plain": [
              "longitude                 0\n",
              "latitude                  0\n",
              "housing_median_age        0\n",
              "total_rooms               0\n",
              "total_bedrooms          207\n",
              "population                0\n",
              "households                0\n",
              "median_income             0\n",
              "median_house_value        0\n",
              "ocean_proximity           0\n",
              "pop_density               0\n",
              "rooms_per_household       0\n",
              "bedrooms_per_room       207\n",
              "age_of_housing_stock      0\n",
              "income_times_age          0\n",
              "income_category           0\n",
              "dtype: int64"
            ]
          },
          "execution_count": 126,
          "metadata": {},
          "output_type": "execute_result"
        }
      ],
      "source": [
        "housing_df.isnull().sum()"
      ]
    },
    {
      "cell_type": "code",
      "execution_count": null,
      "metadata": {
        "id": "Dn532hrQ3XQD"
      },
      "outputs": [],
      "source": [
        "# Replace missing values in 'total_bedrooms' column with 0\n",
        "housing_df_clean['total_bedrooms'] = housing_df_clean['total_bedrooms'].fillna(0)\n",
        "# Replace missing values in 'total_bedrooms' column with 0\n",
        "housing_df_clean['bedrooms_per_room'] = housing_df_clean['bedrooms_per_room'].fillna(0)"
      ]
    },
    {
      "cell_type": "code",
      "execution_count": null,
      "metadata": {
        "id": "0f63uRhQ3XQD",
        "outputId": "e9814a10-c3b4-49d8-9d07-5093a6aba1eb"
      },
      "outputs": [
        {
          "data": {
            "text/html": [
              "<div>\n",
              "<style scoped>\n",
              "    .dataframe tbody tr th:only-of-type {\n",
              "        vertical-align: middle;\n",
              "    }\n",
              "\n",
              "    .dataframe tbody tr th {\n",
              "        vertical-align: top;\n",
              "    }\n",
              "\n",
              "    .dataframe thead th {\n",
              "        text-align: right;\n",
              "    }\n",
              "</style>\n",
              "<table border=\"1\" class=\"dataframe\">\n",
              "  <thead>\n",
              "    <tr style=\"text-align: right;\">\n",
              "      <th></th>\n",
              "      <th>longitude</th>\n",
              "      <th>latitude</th>\n",
              "      <th>housing_median_age</th>\n",
              "      <th>total_rooms</th>\n",
              "      <th>total_bedrooms</th>\n",
              "      <th>population</th>\n",
              "      <th>households</th>\n",
              "      <th>median_income</th>\n",
              "      <th>median_house_value</th>\n",
              "      <th>pop_density</th>\n",
              "      <th>rooms_per_household</th>\n",
              "      <th>bedrooms_per_room</th>\n",
              "      <th>income_times_age</th>\n",
              "    </tr>\n",
              "  </thead>\n",
              "  <tbody>\n",
              "    <tr>\n",
              "      <th>count</th>\n",
              "      <td>20640.000000</td>\n",
              "      <td>20640.000000</td>\n",
              "      <td>20640.000000</td>\n",
              "      <td>20640.000000</td>\n",
              "      <td>20433.000000</td>\n",
              "      <td>20640.000000</td>\n",
              "      <td>20640.000000</td>\n",
              "      <td>20640.000000</td>\n",
              "      <td>20640.000000</td>\n",
              "      <td>20640.000000</td>\n",
              "      <td>20640.000000</td>\n",
              "      <td>20433.000000</td>\n",
              "      <td>20640.000000</td>\n",
              "    </tr>\n",
              "    <tr>\n",
              "      <th>mean</th>\n",
              "      <td>-119.569704</td>\n",
              "      <td>35.631861</td>\n",
              "      <td>28.639486</td>\n",
              "      <td>2635.763081</td>\n",
              "      <td>537.870553</td>\n",
              "      <td>1425.476744</td>\n",
              "      <td>499.539680</td>\n",
              "      <td>3.870671</td>\n",
              "      <td>206855.816909</td>\n",
              "      <td>-0.338258</td>\n",
              "      <td>5.429000</td>\n",
              "      <td>0.213039</td>\n",
              "      <td>108.008027</td>\n",
              "    </tr>\n",
              "    <tr>\n",
              "      <th>std</th>\n",
              "      <td>2.003532</td>\n",
              "      <td>2.135952</td>\n",
              "      <td>12.585558</td>\n",
              "      <td>2181.615252</td>\n",
              "      <td>421.385070</td>\n",
              "      <td>1132.462122</td>\n",
              "      <td>382.329753</td>\n",
              "      <td>1.899822</td>\n",
              "      <td>115395.615874</td>\n",
              "      <td>0.274467</td>\n",
              "      <td>2.474173</td>\n",
              "      <td>0.057983</td>\n",
              "      <td>74.386418</td>\n",
              "    </tr>\n",
              "    <tr>\n",
              "      <th>min</th>\n",
              "      <td>-124.350000</td>\n",
              "      <td>32.540000</td>\n",
              "      <td>1.000000</td>\n",
              "      <td>2.000000</td>\n",
              "      <td>1.000000</td>\n",
              "      <td>3.000000</td>\n",
              "      <td>1.000000</td>\n",
              "      <td>0.499900</td>\n",
              "      <td>14999.000000</td>\n",
              "      <td>-9.111949</td>\n",
              "      <td>0.846154</td>\n",
              "      <td>0.100000</td>\n",
              "      <td>1.625000</td>\n",
              "    </tr>\n",
              "    <tr>\n",
              "      <th>25%</th>\n",
              "      <td>-121.800000</td>\n",
              "      <td>33.930000</td>\n",
              "      <td>18.000000</td>\n",
              "      <td>1447.750000</td>\n",
              "      <td>296.000000</td>\n",
              "      <td>787.000000</td>\n",
              "      <td>280.000000</td>\n",
              "      <td>2.563400</td>\n",
              "      <td>119600.000000</td>\n",
              "      <td>-0.411690</td>\n",
              "      <td>4.440716</td>\n",
              "      <td>0.175427</td>\n",
              "      <td>57.997425</td>\n",
              "    </tr>\n",
              "    <tr>\n",
              "      <th>50%</th>\n",
              "      <td>-118.490000</td>\n",
              "      <td>34.260000</td>\n",
              "      <td>29.000000</td>\n",
              "      <td>2127.000000</td>\n",
              "      <td>435.000000</td>\n",
              "      <td>1166.000000</td>\n",
              "      <td>409.000000</td>\n",
              "      <td>3.534800</td>\n",
              "      <td>179700.000000</td>\n",
              "      <td>-0.275038</td>\n",
              "      <td>5.229129</td>\n",
              "      <td>0.203162</td>\n",
              "      <td>92.502950</td>\n",
              "    </tr>\n",
              "    <tr>\n",
              "      <th>75%</th>\n",
              "      <td>-118.010000</td>\n",
              "      <td>37.710000</td>\n",
              "      <td>37.000000</td>\n",
              "      <td>3148.000000</td>\n",
              "      <td>647.000000</td>\n",
              "      <td>1725.000000</td>\n",
              "      <td>605.000000</td>\n",
              "      <td>4.743250</td>\n",
              "      <td>264725.000000</td>\n",
              "      <td>-0.182691</td>\n",
              "      <td>6.052381</td>\n",
              "      <td>0.239821</td>\n",
              "      <td>140.104900</td>\n",
              "    </tr>\n",
              "    <tr>\n",
              "      <th>max</th>\n",
              "      <td>-114.310000</td>\n",
              "      <td>41.950000</td>\n",
              "      <td>52.000000</td>\n",
              "      <td>39320.000000</td>\n",
              "      <td>6445.000000</td>\n",
              "      <td>35682.000000</td>\n",
              "      <td>6082.000000</td>\n",
              "      <td>15.000100</td>\n",
              "      <td>500001.000000</td>\n",
              "      <td>-0.000744</td>\n",
              "      <td>141.909091</td>\n",
              "      <td>1.000000</td>\n",
              "      <td>780.005200</td>\n",
              "    </tr>\n",
              "  </tbody>\n",
              "</table>\n",
              "</div>"
            ],
            "text/plain": [
              "          longitude      latitude  housing_median_age   total_rooms  \\\n",
              "count  20640.000000  20640.000000        20640.000000  20640.000000   \n",
              "mean    -119.569704     35.631861           28.639486   2635.763081   \n",
              "std        2.003532      2.135952           12.585558   2181.615252   \n",
              "min     -124.350000     32.540000            1.000000      2.000000   \n",
              "25%     -121.800000     33.930000           18.000000   1447.750000   \n",
              "50%     -118.490000     34.260000           29.000000   2127.000000   \n",
              "75%     -118.010000     37.710000           37.000000   3148.000000   \n",
              "max     -114.310000     41.950000           52.000000  39320.000000   \n",
              "\n",
              "       total_bedrooms    population    households  median_income  \\\n",
              "count    20433.000000  20640.000000  20640.000000   20640.000000   \n",
              "mean       537.870553   1425.476744    499.539680       3.870671   \n",
              "std        421.385070   1132.462122    382.329753       1.899822   \n",
              "min          1.000000      3.000000      1.000000       0.499900   \n",
              "25%        296.000000    787.000000    280.000000       2.563400   \n",
              "50%        435.000000   1166.000000    409.000000       3.534800   \n",
              "75%        647.000000   1725.000000    605.000000       4.743250   \n",
              "max       6445.000000  35682.000000   6082.000000      15.000100   \n",
              "\n",
              "       median_house_value   pop_density  rooms_per_household  \\\n",
              "count        20640.000000  20640.000000         20640.000000   \n",
              "mean        206855.816909     -0.338258             5.429000   \n",
              "std         115395.615874      0.274467             2.474173   \n",
              "min          14999.000000     -9.111949             0.846154   \n",
              "25%         119600.000000     -0.411690             4.440716   \n",
              "50%         179700.000000     -0.275038             5.229129   \n",
              "75%         264725.000000     -0.182691             6.052381   \n",
              "max         500001.000000     -0.000744           141.909091   \n",
              "\n",
              "       bedrooms_per_room  income_times_age  \n",
              "count       20433.000000      20640.000000  \n",
              "mean            0.213039        108.008027  \n",
              "std             0.057983         74.386418  \n",
              "min             0.100000          1.625000  \n",
              "25%             0.175427         57.997425  \n",
              "50%             0.203162         92.502950  \n",
              "75%             0.239821        140.104900  \n",
              "max             1.000000        780.005200  "
            ]
          },
          "execution_count": 128,
          "metadata": {},
          "output_type": "execute_result"
        }
      ],
      "source": [
        "housing_df.describe()"
      ]
    },
    {
      "cell_type": "code",
      "execution_count": null,
      "metadata": {
        "id": "P2YrGuSw3XQD",
        "outputId": "4ddf0f58-8ff4-4ab8-ded4-1d5df91608f6"
      },
      "outputs": [
        {
          "data": {
            "image/png": "[encoded data removed]",
            "text/plain": [
              "<Figure size 1000x600 with 1 Axes>"
            ]
          },
          "metadata": {},
          "output_type": "display_data"
        }
      ],
      "source": [
        "# Concatenating longitude and latitude into a new column named 'coordinates'\n",
        "housing_df['coordinates'] = housing_df['longitude'].astype(str) + ',' + housing_df['latitude'].astype(str)\n",
        "\n",
        "\n",
        "#plotting the scatter plot\n",
        "plt.figure(figsize=(10, 6))\n",
        "plt.scatter(housing_df['longitude'], housing_df['latitude'], s=10)  # s sets the size of the markers\n",
        "plt.xlabel('Longitude')\n",
        "plt.ylabel('Latitude')\n",
        "plt.title('Scatter Plot of Longitude vs Latitude')\n",
        "plt.grid(True)\n",
        "plt.show()\n"
      ]
    },
    {
      "cell_type": "markdown",
      "metadata": {
        "id": "diQRYpPd3XQD"
      },
      "source": [
        "# Data Preparation"
      ]
    },
    {
      "cell_type": "code",
      "execution_count": null,
      "metadata": {
        "id": "akEKGyIZ3XQD"
      },
      "outputs": [],
      "source": [
        "#Normalizing the data uning the OneHotEncoder library\n",
        "one_encoder = OneHotEncoder(sparse=False)\n",
        "categorical_logic = one_encoder.fit_transform(housing_df[[\"ocean_proximity\",\"age_of_housing_stock\",\"income_category\"]])"
      ]
    },
    {
      "cell_type": "code",
      "execution_count": null,
      "metadata": {
        "id": "ZQt5XvlG3XQE"
      },
      "outputs": [],
      "source": [
        "encoded_df = pd.DataFrame(categorical_logic, columns=one_encoder.get_feature_names_out())"
      ]
    },
    {
      "cell_type": "code",
      "execution_count": null,
      "metadata": {
        "id": "sTfXC_MZ3XQE"
      },
      "outputs": [],
      "source": [
        "#combining both original dataframe and encoded data into a DataFrame\n",
        "housing_df_clean = pd.concat([housing_df.drop(columns=['ocean_proximity', 'age_of_housing_stock', 'income_category']), encoded_df], axis=1)\n"
      ]
    },
    {
      "cell_type": "code",
      "execution_count": null,
      "metadata": {
        "id": "Rb2iOWWe3XQE",
        "outputId": "1455cb10-41be-469c-cccb-921f254826af"
      },
      "outputs": [
        {
          "data": {
            "text/html": [
              "<div>\n",
              "<style scoped>\n",
              "    .dataframe tbody tr th:only-of-type {\n",
              "        vertical-align: middle;\n",
              "    }\n",
              "\n",
              "    .dataframe tbody tr th {\n",
              "        vertical-align: top;\n",
              "    }\n",
              "\n",
              "    .dataframe thead th {\n",
              "        text-align: right;\n",
              "    }\n",
              "</style>\n",
              "<table border=\"1\" class=\"dataframe\">\n",
              "  <thead>\n",
              "    <tr style=\"text-align: right;\">\n",
              "      <th></th>\n",
              "      <th>longitude</th>\n",
              "      <th>latitude</th>\n",
              "      <th>housing_median_age</th>\n",
              "      <th>total_rooms</th>\n",
              "      <th>total_bedrooms</th>\n",
              "      <th>population</th>\n",
              "      <th>households</th>\n",
              "      <th>median_income</th>\n",
              "      <th>median_house_value</th>\n",
              "      <th>pop_density</th>\n",
              "      <th>...</th>\n",
              "      <th>age_of_housing_stock_11-20</th>\n",
              "      <th>age_of_housing_stock_21-30</th>\n",
              "      <th>age_of_housing_stock_31-40</th>\n",
              "      <th>age_of_housing_stock_41-50</th>\n",
              "      <th>age_of_housing_stock_51+</th>\n",
              "      <th>income_category_High</th>\n",
              "      <th>income_category_Low</th>\n",
              "      <th>income_category_Lower Middle</th>\n",
              "      <th>income_category_Middle</th>\n",
              "      <th>income_category_Upper Middle</th>\n",
              "    </tr>\n",
              "  </thead>\n",
              "  <tbody>\n",
              "    <tr>\n",
              "      <th>0</th>\n",
              "      <td>-122.23</td>\n",
              "      <td>37.88</td>\n",
              "      <td>41.0</td>\n",
              "      <td>880.0</td>\n",
              "      <td>129.0</td>\n",
              "      <td>322.0</td>\n",
              "      <td>126.0</td>\n",
              "      <td>8.3252</td>\n",
              "      <td>452600.0</td>\n",
              "      <td>-0.069545</td>\n",
              "      <td>...</td>\n",
              "      <td>0.0</td>\n",
              "      <td>0.0</td>\n",
              "      <td>0.0</td>\n",
              "      <td>1.0</td>\n",
              "      <td>0.0</td>\n",
              "      <td>0.0</td>\n",
              "      <td>0.0</td>\n",
              "      <td>0.0</td>\n",
              "      <td>1.0</td>\n",
              "      <td>0.0</td>\n",
              "    </tr>\n",
              "    <tr>\n",
              "      <th>1</th>\n",
              "      <td>-122.22</td>\n",
              "      <td>37.86</td>\n",
              "      <td>21.0</td>\n",
              "      <td>7099.0</td>\n",
              "      <td>1106.0</td>\n",
              "      <td>2401.0</td>\n",
              "      <td>1138.0</td>\n",
              "      <td>8.3014</td>\n",
              "      <td>358500.0</td>\n",
              "      <td>-0.518883</td>\n",
              "      <td>...</td>\n",
              "      <td>0.0</td>\n",
              "      <td>1.0</td>\n",
              "      <td>0.0</td>\n",
              "      <td>0.0</td>\n",
              "      <td>0.0</td>\n",
              "      <td>0.0</td>\n",
              "      <td>0.0</td>\n",
              "      <td>0.0</td>\n",
              "      <td>1.0</td>\n",
              "      <td>0.0</td>\n",
              "    </tr>\n",
              "    <tr>\n",
              "      <th>2</th>\n",
              "      <td>-122.24</td>\n",
              "      <td>37.85</td>\n",
              "      <td>52.0</td>\n",
              "      <td>1467.0</td>\n",
              "      <td>190.0</td>\n",
              "      <td>496.0</td>\n",
              "      <td>177.0</td>\n",
              "      <td>7.2574</td>\n",
              "      <td>352100.0</td>\n",
              "      <td>-0.107202</td>\n",
              "      <td>...</td>\n",
              "      <td>0.0</td>\n",
              "      <td>0.0</td>\n",
              "      <td>0.0</td>\n",
              "      <td>0.0</td>\n",
              "      <td>1.0</td>\n",
              "      <td>0.0</td>\n",
              "      <td>0.0</td>\n",
              "      <td>0.0</td>\n",
              "      <td>1.0</td>\n",
              "      <td>0.0</td>\n",
              "    </tr>\n",
              "    <tr>\n",
              "      <th>3</th>\n",
              "      <td>-122.25</td>\n",
              "      <td>37.85</td>\n",
              "      <td>52.0</td>\n",
              "      <td>1274.0</td>\n",
              "      <td>235.0</td>\n",
              "      <td>558.0</td>\n",
              "      <td>219.0</td>\n",
              "      <td>5.6431</td>\n",
              "      <td>341300.0</td>\n",
              "      <td>-0.120592</td>\n",
              "      <td>...</td>\n",
              "      <td>0.0</td>\n",
              "      <td>0.0</td>\n",
              "      <td>0.0</td>\n",
              "      <td>0.0</td>\n",
              "      <td>1.0</td>\n",
              "      <td>0.0</td>\n",
              "      <td>0.0</td>\n",
              "      <td>1.0</td>\n",
              "      <td>0.0</td>\n",
              "      <td>0.0</td>\n",
              "    </tr>\n",
              "    <tr>\n",
              "      <th>4</th>\n",
              "      <td>-122.25</td>\n",
              "      <td>37.85</td>\n",
              "      <td>52.0</td>\n",
              "      <td>1627.0</td>\n",
              "      <td>280.0</td>\n",
              "      <td>565.0</td>\n",
              "      <td>259.0</td>\n",
              "      <td>3.8462</td>\n",
              "      <td>342200.0</td>\n",
              "      <td>-0.122105</td>\n",
              "      <td>...</td>\n",
              "      <td>0.0</td>\n",
              "      <td>0.0</td>\n",
              "      <td>0.0</td>\n",
              "      <td>0.0</td>\n",
              "      <td>1.0</td>\n",
              "      <td>0.0</td>\n",
              "      <td>0.0</td>\n",
              "      <td>1.0</td>\n",
              "      <td>0.0</td>\n",
              "      <td>0.0</td>\n",
              "    </tr>\n",
              "  </tbody>\n",
              "</table>\n",
              "<p>5 rows × 29 columns</p>\n",
              "</div>"
            ],
            "text/plain": [
              "   longitude  latitude  housing_median_age  total_rooms  total_bedrooms  \\\n",
              "0    -122.23     37.88                41.0        880.0           129.0   \n",
              "1    -122.22     37.86                21.0       7099.0          1106.0   \n",
              "2    -122.24     37.85                52.0       1467.0           190.0   \n",
              "3    -122.25     37.85                52.0       1274.0           235.0   \n",
              "4    -122.25     37.85                52.0       1627.0           280.0   \n",
              "\n",
              "   population  households  median_income  median_house_value  pop_density  \\\n",
              "0       322.0       126.0         8.3252            452600.0    -0.069545   \n",
              "1      2401.0      1138.0         8.3014            358500.0    -0.518883   \n",
              "2       496.0       177.0         7.2574            352100.0    -0.107202   \n",
              "3       558.0       219.0         5.6431            341300.0    -0.120592   \n",
              "4       565.0       259.0         3.8462            342200.0    -0.122105   \n",
              "\n",
              "   ...  age_of_housing_stock_11-20  age_of_housing_stock_21-30  \\\n",
              "0  ...                         0.0                         0.0   \n",
              "1  ...                         0.0                         1.0   \n",
              "2  ...                         0.0                         0.0   \n",
              "3  ...                         0.0                         0.0   \n",
              "4  ...                         0.0                         0.0   \n",
              "\n",
              "   age_of_housing_stock_31-40  age_of_housing_stock_41-50  \\\n",
              "0                         0.0                         1.0   \n",
              "1                         0.0                         0.0   \n",
              "2                         0.0                         0.0   \n",
              "3                         0.0                         0.0   \n",
              "4                         0.0                         0.0   \n",
              "\n",
              "   age_of_housing_stock_51+  income_category_High  income_category_Low  \\\n",
              "0                       0.0                   0.0                  0.0   \n",
              "1                       0.0                   0.0                  0.0   \n",
              "2                       1.0                   0.0                  0.0   \n",
              "3                       1.0                   0.0                  0.0   \n",
              "4                       1.0                   0.0                  0.0   \n",
              "\n",
              "   income_category_Lower Middle  income_category_Middle  \\\n",
              "0                           0.0                     1.0   \n",
              "1                           0.0                     1.0   \n",
              "2                           0.0                     1.0   \n",
              "3                           1.0                     0.0   \n",
              "4                           1.0                     0.0   \n",
              "\n",
              "   income_category_Upper Middle  \n",
              "0                           0.0  \n",
              "1                           0.0  \n",
              "2                           0.0  \n",
              "3                           0.0  \n",
              "4                           0.0  \n",
              "\n",
              "[5 rows x 29 columns]"
            ]
          },
          "execution_count": 17,
          "metadata": {},
          "output_type": "execute_result"
        }
      ],
      "source": [
        "housing_df_clean.head()"
      ]
    },
    {
      "cell_type": "code",
      "execution_count": null,
      "metadata": {
        "id": "5Hu_C8di3XQE"
      },
      "outputs": [],
      "source": [
        "# Separate the data into labels and features\n",
        "\n",
        "# Separate the y variable, the labels\n",
        "y = housing_df_clean['median_house_value']\n",
        "\n",
        "# Separate the X variable, the features\n",
        "X = housing_df_clean.drop(columns=['median_house_value'])"
      ]
    },
    {
      "cell_type": "code",
      "execution_count": null,
      "metadata": {
        "id": "w2SUvBqB3XQE",
        "outputId": "aac91ae7-eb14-42b1-a081-db8f40ef248a"
      },
      "outputs": [
        {
          "data": {
            "text/plain": [
              "0    452600.0\n",
              "1    358500.0\n",
              "2    352100.0\n",
              "3    341300.0\n",
              "4    342200.0\n",
              "Name: median_house_value, dtype: float64"
            ]
          },
          "execution_count": 22,
          "metadata": {},
          "output_type": "execute_result"
        }
      ],
      "source": [
        "# Review the y variable Series\n",
        "y.head()"
      ]
    },
    {
      "cell_type": "code",
      "execution_count": null,
      "metadata": {
        "id": "re7zzKiP3XQF",
        "outputId": "c6b5e6ee-e645-447d-c554-142f6e9b4332"
      },
      "outputs": [
        {
          "data": {
            "text/html": [
              "<div>\n",
              "<style scoped>\n",
              "    .dataframe tbody tr th:only-of-type {\n",
              "        vertical-align: middle;\n",
              "    }\n",
              "\n",
              "    .dataframe tbody tr th {\n",
              "        vertical-align: top;\n",
              "    }\n",
              "\n",
              "    .dataframe thead th {\n",
              "        text-align: right;\n",
              "    }\n",
              "</style>\n",
              "<table border=\"1\" class=\"dataframe\">\n",
              "  <thead>\n",
              "    <tr style=\"text-align: right;\">\n",
              "      <th></th>\n",
              "      <th>longitude</th>\n",
              "      <th>latitude</th>\n",
              "      <th>housing_median_age</th>\n",
              "      <th>total_rooms</th>\n",
              "      <th>total_bedrooms</th>\n",
              "      <th>population</th>\n",
              "      <th>households</th>\n",
              "      <th>median_income</th>\n",
              "      <th>pop_density</th>\n",
              "      <th>rooms_per_household</th>\n",
              "      <th>...</th>\n",
              "      <th>age_of_housing_stock_11-20</th>\n",
              "      <th>age_of_housing_stock_21-30</th>\n",
              "      <th>age_of_housing_stock_31-40</th>\n",
              "      <th>age_of_housing_stock_41-50</th>\n",
              "      <th>age_of_housing_stock_51+</th>\n",
              "      <th>income_category_High</th>\n",
              "      <th>income_category_Low</th>\n",
              "      <th>income_category_Lower Middle</th>\n",
              "      <th>income_category_Middle</th>\n",
              "      <th>income_category_Upper Middle</th>\n",
              "    </tr>\n",
              "  </thead>\n",
              "  <tbody>\n",
              "    <tr>\n",
              "      <th>0</th>\n",
              "      <td>-122.23</td>\n",
              "      <td>37.88</td>\n",
              "      <td>41.0</td>\n",
              "      <td>880.0</td>\n",
              "      <td>129.0</td>\n",
              "      <td>322.0</td>\n",
              "      <td>126.0</td>\n",
              "      <td>8.3252</td>\n",
              "      <td>-0.069545</td>\n",
              "      <td>6.984127</td>\n",
              "      <td>...</td>\n",
              "      <td>0.0</td>\n",
              "      <td>0.0</td>\n",
              "      <td>0.0</td>\n",
              "      <td>1.0</td>\n",
              "      <td>0.0</td>\n",
              "      <td>0.0</td>\n",
              "      <td>0.0</td>\n",
              "      <td>0.0</td>\n",
              "      <td>1.0</td>\n",
              "      <td>0.0</td>\n",
              "    </tr>\n",
              "    <tr>\n",
              "      <th>1</th>\n",
              "      <td>-122.22</td>\n",
              "      <td>37.86</td>\n",
              "      <td>21.0</td>\n",
              "      <td>7099.0</td>\n",
              "      <td>1106.0</td>\n",
              "      <td>2401.0</td>\n",
              "      <td>1138.0</td>\n",
              "      <td>8.3014</td>\n",
              "      <td>-0.518883</td>\n",
              "      <td>6.238137</td>\n",
              "      <td>...</td>\n",
              "      <td>0.0</td>\n",
              "      <td>1.0</td>\n",
              "      <td>0.0</td>\n",
              "      <td>0.0</td>\n",
              "      <td>0.0</td>\n",
              "      <td>0.0</td>\n",
              "      <td>0.0</td>\n",
              "      <td>0.0</td>\n",
              "      <td>1.0</td>\n",
              "      <td>0.0</td>\n",
              "    </tr>\n",
              "    <tr>\n",
              "      <th>2</th>\n",
              "      <td>-122.24</td>\n",
              "      <td>37.85</td>\n",
              "      <td>52.0</td>\n",
              "      <td>1467.0</td>\n",
              "      <td>190.0</td>\n",
              "      <td>496.0</td>\n",
              "      <td>177.0</td>\n",
              "      <td>7.2574</td>\n",
              "      <td>-0.107202</td>\n",
              "      <td>8.288136</td>\n",
              "      <td>...</td>\n",
              "      <td>0.0</td>\n",
              "      <td>0.0</td>\n",
              "      <td>0.0</td>\n",
              "      <td>0.0</td>\n",
              "      <td>1.0</td>\n",
              "      <td>0.0</td>\n",
              "      <td>0.0</td>\n",
              "      <td>0.0</td>\n",
              "      <td>1.0</td>\n",
              "      <td>0.0</td>\n",
              "    </tr>\n",
              "    <tr>\n",
              "      <th>3</th>\n",
              "      <td>-122.25</td>\n",
              "      <td>37.85</td>\n",
              "      <td>52.0</td>\n",
              "      <td>1274.0</td>\n",
              "      <td>235.0</td>\n",
              "      <td>558.0</td>\n",
              "      <td>219.0</td>\n",
              "      <td>5.6431</td>\n",
              "      <td>-0.120592</td>\n",
              "      <td>5.817352</td>\n",
              "      <td>...</td>\n",
              "      <td>0.0</td>\n",
              "      <td>0.0</td>\n",
              "      <td>0.0</td>\n",
              "      <td>0.0</td>\n",
              "      <td>1.0</td>\n",
              "      <td>0.0</td>\n",
              "      <td>0.0</td>\n",
              "      <td>1.0</td>\n",
              "      <td>0.0</td>\n",
              "      <td>0.0</td>\n",
              "    </tr>\n",
              "    <tr>\n",
              "      <th>4</th>\n",
              "      <td>-122.25</td>\n",
              "      <td>37.85</td>\n",
              "      <td>52.0</td>\n",
              "      <td>1627.0</td>\n",
              "      <td>280.0</td>\n",
              "      <td>565.0</td>\n",
              "      <td>259.0</td>\n",
              "      <td>3.8462</td>\n",
              "      <td>-0.122105</td>\n",
              "      <td>6.281853</td>\n",
              "      <td>...</td>\n",
              "      <td>0.0</td>\n",
              "      <td>0.0</td>\n",
              "      <td>0.0</td>\n",
              "      <td>0.0</td>\n",
              "      <td>1.0</td>\n",
              "      <td>0.0</td>\n",
              "      <td>0.0</td>\n",
              "      <td>1.0</td>\n",
              "      <td>0.0</td>\n",
              "      <td>0.0</td>\n",
              "    </tr>\n",
              "  </tbody>\n",
              "</table>\n",
              "<p>5 rows × 28 columns</p>\n",
              "</div>"
            ],
            "text/plain": [
              "   longitude  latitude  housing_median_age  total_rooms  total_bedrooms  \\\n",
              "0    -122.23     37.88                41.0        880.0           129.0   \n",
              "1    -122.22     37.86                21.0       7099.0          1106.0   \n",
              "2    -122.24     37.85                52.0       1467.0           190.0   \n",
              "3    -122.25     37.85                52.0       1274.0           235.0   \n",
              "4    -122.25     37.85                52.0       1627.0           280.0   \n",
              "\n",
              "   population  households  median_income  pop_density  rooms_per_household  \\\n",
              "0       322.0       126.0         8.3252    -0.069545             6.984127   \n",
              "1      2401.0      1138.0         8.3014    -0.518883             6.238137   \n",
              "2       496.0       177.0         7.2574    -0.107202             8.288136   \n",
              "3       558.0       219.0         5.6431    -0.120592             5.817352   \n",
              "4       565.0       259.0         3.8462    -0.122105             6.281853   \n",
              "\n",
              "   ...  age_of_housing_stock_11-20  age_of_housing_stock_21-30  \\\n",
              "0  ...                         0.0                         0.0   \n",
              "1  ...                         0.0                         1.0   \n",
              "2  ...                         0.0                         0.0   \n",
              "3  ...                         0.0                         0.0   \n",
              "4  ...                         0.0                         0.0   \n",
              "\n",
              "   age_of_housing_stock_31-40  age_of_housing_stock_41-50  \\\n",
              "0                         0.0                         1.0   \n",
              "1                         0.0                         0.0   \n",
              "2                         0.0                         0.0   \n",
              "3                         0.0                         0.0   \n",
              "4                         0.0                         0.0   \n",
              "\n",
              "   age_of_housing_stock_51+  income_category_High  income_category_Low  \\\n",
              "0                       0.0                   0.0                  0.0   \n",
              "1                       0.0                   0.0                  0.0   \n",
              "2                       1.0                   0.0                  0.0   \n",
              "3                       1.0                   0.0                  0.0   \n",
              "4                       1.0                   0.0                  0.0   \n",
              "\n",
              "   income_category_Lower Middle  income_category_Middle  \\\n",
              "0                           0.0                     1.0   \n",
              "1                           0.0                     1.0   \n",
              "2                           0.0                     1.0   \n",
              "3                           1.0                     0.0   \n",
              "4                           1.0                     0.0   \n",
              "\n",
              "   income_category_Upper Middle  \n",
              "0                           0.0  \n",
              "1                           0.0  \n",
              "2                           0.0  \n",
              "3                           0.0  \n",
              "4                           0.0  \n",
              "\n",
              "[5 rows x 28 columns]"
            ]
          },
          "execution_count": 23,
          "metadata": {},
          "output_type": "execute_result"
        }
      ],
      "source": [
        "# Review the X variable DataFrame\n",
        "X.head()"
      ]
    },
    {
      "cell_type": "code",
      "execution_count": null,
      "metadata": {
        "id": "23_CvBni3XQF"
      },
      "outputs": [],
      "source": [
        "X_encoded= pd.concat([X, housing_df_clean], axis=1)"
      ]
    },
    {
      "cell_type": "code",
      "execution_count": null,
      "metadata": {
        "id": "T_MwInzc3XQF",
        "outputId": "ec7e46a6-e2fd-4034-8cca-45b7ddf08948"
      },
      "outputs": [
        {
          "data": {
            "text/html": [
              "<div>\n",
              "<style scoped>\n",
              "    .dataframe tbody tr th:only-of-type {\n",
              "        vertical-align: middle;\n",
              "    }\n",
              "\n",
              "    .dataframe tbody tr th {\n",
              "        vertical-align: top;\n",
              "    }\n",
              "\n",
              "    .dataframe thead th {\n",
              "        text-align: right;\n",
              "    }\n",
              "</style>\n",
              "<table border=\"1\" class=\"dataframe\">\n",
              "  <thead>\n",
              "    <tr style=\"text-align: right;\">\n",
              "      <th></th>\n",
              "      <th>longitude</th>\n",
              "      <th>latitude</th>\n",
              "      <th>housing_median_age</th>\n",
              "      <th>total_rooms</th>\n",
              "      <th>total_bedrooms</th>\n",
              "      <th>population</th>\n",
              "      <th>households</th>\n",
              "      <th>median_income</th>\n",
              "      <th>pop_density</th>\n",
              "      <th>rooms_per_household</th>\n",
              "      <th>...</th>\n",
              "      <th>age_of_housing_stock_11-20</th>\n",
              "      <th>age_of_housing_stock_21-30</th>\n",
              "      <th>age_of_housing_stock_31-40</th>\n",
              "      <th>age_of_housing_stock_41-50</th>\n",
              "      <th>age_of_housing_stock_51+</th>\n",
              "      <th>income_category_High</th>\n",
              "      <th>income_category_Low</th>\n",
              "      <th>income_category_Lower Middle</th>\n",
              "      <th>income_category_Middle</th>\n",
              "      <th>income_category_Upper Middle</th>\n",
              "    </tr>\n",
              "  </thead>\n",
              "  <tbody>\n",
              "    <tr>\n",
              "      <th>0</th>\n",
              "      <td>-122.23</td>\n",
              "      <td>37.88</td>\n",
              "      <td>41.0</td>\n",
              "      <td>880.0</td>\n",
              "      <td>129.0</td>\n",
              "      <td>322.0</td>\n",
              "      <td>126.0</td>\n",
              "      <td>8.3252</td>\n",
              "      <td>-0.069545</td>\n",
              "      <td>6.984127</td>\n",
              "      <td>...</td>\n",
              "      <td>0.0</td>\n",
              "      <td>0.0</td>\n",
              "      <td>0.0</td>\n",
              "      <td>1.0</td>\n",
              "      <td>0.0</td>\n",
              "      <td>0.0</td>\n",
              "      <td>0.0</td>\n",
              "      <td>0.0</td>\n",
              "      <td>1.0</td>\n",
              "      <td>0.0</td>\n",
              "    </tr>\n",
              "    <tr>\n",
              "      <th>1</th>\n",
              "      <td>-122.22</td>\n",
              "      <td>37.86</td>\n",
              "      <td>21.0</td>\n",
              "      <td>7099.0</td>\n",
              "      <td>1106.0</td>\n",
              "      <td>2401.0</td>\n",
              "      <td>1138.0</td>\n",
              "      <td>8.3014</td>\n",
              "      <td>-0.518883</td>\n",
              "      <td>6.238137</td>\n",
              "      <td>...</td>\n",
              "      <td>0.0</td>\n",
              "      <td>1.0</td>\n",
              "      <td>0.0</td>\n",
              "      <td>0.0</td>\n",
              "      <td>0.0</td>\n",
              "      <td>0.0</td>\n",
              "      <td>0.0</td>\n",
              "      <td>0.0</td>\n",
              "      <td>1.0</td>\n",
              "      <td>0.0</td>\n",
              "    </tr>\n",
              "    <tr>\n",
              "      <th>2</th>\n",
              "      <td>-122.24</td>\n",
              "      <td>37.85</td>\n",
              "      <td>52.0</td>\n",
              "      <td>1467.0</td>\n",
              "      <td>190.0</td>\n",
              "      <td>496.0</td>\n",
              "      <td>177.0</td>\n",
              "      <td>7.2574</td>\n",
              "      <td>-0.107202</td>\n",
              "      <td>8.288136</td>\n",
              "      <td>...</td>\n",
              "      <td>0.0</td>\n",
              "      <td>0.0</td>\n",
              "      <td>0.0</td>\n",
              "      <td>0.0</td>\n",
              "      <td>1.0</td>\n",
              "      <td>0.0</td>\n",
              "      <td>0.0</td>\n",
              "      <td>0.0</td>\n",
              "      <td>1.0</td>\n",
              "      <td>0.0</td>\n",
              "    </tr>\n",
              "    <tr>\n",
              "      <th>3</th>\n",
              "      <td>-122.25</td>\n",
              "      <td>37.85</td>\n",
              "      <td>52.0</td>\n",
              "      <td>1274.0</td>\n",
              "      <td>235.0</td>\n",
              "      <td>558.0</td>\n",
              "      <td>219.0</td>\n",
              "      <td>5.6431</td>\n",
              "      <td>-0.120592</td>\n",
              "      <td>5.817352</td>\n",
              "      <td>...</td>\n",
              "      <td>0.0</td>\n",
              "      <td>0.0</td>\n",
              "      <td>0.0</td>\n",
              "      <td>0.0</td>\n",
              "      <td>1.0</td>\n",
              "      <td>0.0</td>\n",
              "      <td>0.0</td>\n",
              "      <td>1.0</td>\n",
              "      <td>0.0</td>\n",
              "      <td>0.0</td>\n",
              "    </tr>\n",
              "    <tr>\n",
              "      <th>4</th>\n",
              "      <td>-122.25</td>\n",
              "      <td>37.85</td>\n",
              "      <td>52.0</td>\n",
              "      <td>1627.0</td>\n",
              "      <td>280.0</td>\n",
              "      <td>565.0</td>\n",
              "      <td>259.0</td>\n",
              "      <td>3.8462</td>\n",
              "      <td>-0.122105</td>\n",
              "      <td>6.281853</td>\n",
              "      <td>...</td>\n",
              "      <td>0.0</td>\n",
              "      <td>0.0</td>\n",
              "      <td>0.0</td>\n",
              "      <td>0.0</td>\n",
              "      <td>1.0</td>\n",
              "      <td>0.0</td>\n",
              "      <td>0.0</td>\n",
              "      <td>1.0</td>\n",
              "      <td>0.0</td>\n",
              "      <td>0.0</td>\n",
              "    </tr>\n",
              "  </tbody>\n",
              "</table>\n",
              "<p>5 rows × 57 columns</p>\n",
              "</div>"
            ],
            "text/plain": [
              "   longitude  latitude  housing_median_age  total_rooms  total_bedrooms  \\\n",
              "0    -122.23     37.88                41.0        880.0           129.0   \n",
              "1    -122.22     37.86                21.0       7099.0          1106.0   \n",
              "2    -122.24     37.85                52.0       1467.0           190.0   \n",
              "3    -122.25     37.85                52.0       1274.0           235.0   \n",
              "4    -122.25     37.85                52.0       1627.0           280.0   \n",
              "\n",
              "   population  households  median_income  pop_density  rooms_per_household  \\\n",
              "0       322.0       126.0         8.3252    -0.069545             6.984127   \n",
              "1      2401.0      1138.0         8.3014    -0.518883             6.238137   \n",
              "2       496.0       177.0         7.2574    -0.107202             8.288136   \n",
              "3       558.0       219.0         5.6431    -0.120592             5.817352   \n",
              "4       565.0       259.0         3.8462    -0.122105             6.281853   \n",
              "\n",
              "   ...  age_of_housing_stock_11-20  age_of_housing_stock_21-30  \\\n",
              "0  ...                         0.0                         0.0   \n",
              "1  ...                         0.0                         1.0   \n",
              "2  ...                         0.0                         0.0   \n",
              "3  ...                         0.0                         0.0   \n",
              "4  ...                         0.0                         0.0   \n",
              "\n",
              "   age_of_housing_stock_31-40  age_of_housing_stock_41-50  \\\n",
              "0                         0.0                         1.0   \n",
              "1                         0.0                         0.0   \n",
              "2                         0.0                         0.0   \n",
              "3                         0.0                         0.0   \n",
              "4                         0.0                         0.0   \n",
              "\n",
              "   age_of_housing_stock_51+  income_category_High  income_category_Low  \\\n",
              "0                       0.0                   0.0                  0.0   \n",
              "1                       0.0                   0.0                  0.0   \n",
              "2                       1.0                   0.0                  0.0   \n",
              "3                       1.0                   0.0                  0.0   \n",
              "4                       1.0                   0.0                  0.0   \n",
              "\n",
              "   income_category_Lower Middle  income_category_Middle  \\\n",
              "0                           0.0                     1.0   \n",
              "1                           0.0                     1.0   \n",
              "2                           0.0                     1.0   \n",
              "3                           1.0                     0.0   \n",
              "4                           1.0                     0.0   \n",
              "\n",
              "   income_category_Upper Middle  \n",
              "0                           0.0  \n",
              "1                           0.0  \n",
              "2                           0.0  \n",
              "3                           0.0  \n",
              "4                           0.0  \n",
              "\n",
              "[5 rows x 57 columns]"
            ]
          },
          "execution_count": 25,
          "metadata": {},
          "output_type": "execute_result"
        }
      ],
      "source": [
        "X_encoded.head()"
      ]
    },
    {
      "cell_type": "code",
      "execution_count": null,
      "metadata": {
        "id": "CbZeAbGn3XQK"
      },
      "outputs": [],
      "source": [
        "# Drop duplicated columns\n",
        "X_encoded= X_encoded.loc[:,~X_encoded.columns.duplicated()]\n"
      ]
    },
    {
      "cell_type": "code",
      "execution_count": null,
      "metadata": {
        "id": "VOYY3QWr3XQK",
        "outputId": "6dc95037-0639-440a-c1f2-e49466c4cdc6"
      },
      "outputs": [
        {
          "name": "stdout",
          "output_type": "stream",
          "text": [
            "<class 'pandas.core.frame.DataFrame'>\n",
            "RangeIndex: 20640 entries, 0 to 20639\n",
            "Data columns (total 29 columns):\n",
            " #   Column                        Non-Null Count  Dtype  \n",
            "---  ------                        --------------  -----  \n",
            " 0   longitude                     20640 non-null  float64\n",
            " 1   latitude                      20640 non-null  float64\n",
            " 2   housing_median_age            20640 non-null  float64\n",
            " 3   total_rooms                   20640 non-null  float64\n",
            " 4   total_bedrooms                20640 non-null  float64\n",
            " 5   population                    20640 non-null  float64\n",
            " 6   households                    20640 non-null  float64\n",
            " 7   median_income                 20640 non-null  float64\n",
            " 8   pop_density                   20640 non-null  float64\n",
            " 9   rooms_per_household           20640 non-null  float64\n",
            " 10  bedrooms_per_room             20640 non-null  float64\n",
            " 11  income_times_age              20640 non-null  float64\n",
            " 12  ocean_proximity_<1H OCEAN     20640 non-null  float64\n",
            " 13  ocean_proximity_INLAND        20640 non-null  float64\n",
            " 14  ocean_proximity_ISLAND        20640 non-null  float64\n",
            " 15  ocean_proximity_NEAR BAY      20640 non-null  float64\n",
            " 16  ocean_proximity_NEAR OCEAN    20640 non-null  float64\n",
            " 17  age_of_housing_stock_0-10     20640 non-null  float64\n",
            " 18  age_of_housing_stock_11-20    20640 non-null  float64\n",
            " 19  age_of_housing_stock_21-30    20640 non-null  float64\n",
            " 20  age_of_housing_stock_31-40    20640 non-null  float64\n",
            " 21  age_of_housing_stock_41-50    20640 non-null  float64\n",
            " 22  age_of_housing_stock_51+      20640 non-null  float64\n",
            " 23  income_category_High          20640 non-null  float64\n",
            " 24  income_category_Low           20640 non-null  float64\n",
            " 25  income_category_Lower Middle  20640 non-null  float64\n",
            " 26  income_category_Middle        20640 non-null  float64\n",
            " 27  income_category_Upper Middle  20640 non-null  float64\n",
            " 28  median_house_value            20640 non-null  float64\n",
            "dtypes: float64(29)\n",
            "memory usage: 4.6 MB\n"
          ]
        }
      ],
      "source": [
        "X_encoded.info()"
      ]
    },
    {
      "cell_type": "code",
      "execution_count": null,
      "metadata": {
        "id": "W8EYUlE03XQK",
        "outputId": "cebde61d-3d39-4097-d383-61dcf3afbad2"
      },
      "outputs": [
        {
          "data": {
            "text/plain": [
              "longitude                       0\n",
              "latitude                        0\n",
              "housing_median_age              0\n",
              "total_rooms                     0\n",
              "total_bedrooms                  0\n",
              "population                      0\n",
              "households                      0\n",
              "median_income                   0\n",
              "pop_density                     0\n",
              "rooms_per_household             0\n",
              "bedrooms_per_room               0\n",
              "income_times_age                0\n",
              "ocean_proximity_<1H OCEAN       0\n",
              "ocean_proximity_INLAND          0\n",
              "ocean_proximity_ISLAND          0\n",
              "ocean_proximity_NEAR BAY        0\n",
              "ocean_proximity_NEAR OCEAN      0\n",
              "age_of_housing_stock_0-10       0\n",
              "age_of_housing_stock_11-20      0\n",
              "age_of_housing_stock_21-30      0\n",
              "age_of_housing_stock_31-40      0\n",
              "age_of_housing_stock_41-50      0\n",
              "age_of_housing_stock_51+        0\n",
              "income_category_High            0\n",
              "income_category_Low             0\n",
              "income_category_Lower Middle    0\n",
              "income_category_Middle          0\n",
              "income_category_Upper Middle    0\n",
              "median_house_value              0\n",
              "dtype: int64"
            ]
          },
          "execution_count": 28,
          "metadata": {},
          "output_type": "execute_result"
        }
      ],
      "source": [
        "X_encoded.isnull().sum()"
      ]
    },
    {
      "cell_type": "markdown",
      "metadata": {
        "id": "H-MgcEeB3XQK"
      },
      "source": [
        "### Checking the balance of the labels variable (`y`) by using the `value_counts` function."
      ]
    },
    {
      "cell_type": "code",
      "execution_count": null,
      "metadata": {
        "id": "lwUlluRh3XQK",
        "outputId": "b70f0730-184c-47de-b38f-031d6905c806"
      },
      "outputs": [
        {
          "data": {
            "text/plain": [
              "500001.0    965\n",
              "137500.0    122\n",
              "162500.0    117\n",
              "112500.0    103\n",
              "187500.0     93\n",
              "           ... \n",
              "359200.0      1\n",
              "54900.0       1\n",
              "377600.0      1\n",
              "81200.0       1\n",
              "47000.0       1\n",
              "Name: median_house_value, Length: 3842, dtype: int64"
            ]
          },
          "execution_count": 29,
          "metadata": {},
          "output_type": "execute_result"
        }
      ],
      "source": [
        "# Check the balance of our target values using value_counts function.\n",
        "y.value_counts()"
      ]
    },
    {
      "cell_type": "markdown",
      "metadata": {
        "id": "dYUslGw73XQK"
      },
      "source": [
        "### Spliting the data into training and testing datasets by using `train_test_split`."
      ]
    },
    {
      "cell_type": "code",
      "execution_count": null,
      "metadata": {
        "id": "GDKVfr8O3XQL"
      },
      "outputs": [],
      "source": [
        "# Import the train_test_learn module\n",
        "from sklearn.model_selection import train_test_split\n",
        "\n",
        "# Split the data using train_test_split\n",
        "# Assign a random_state of 1 to the function\n",
        "X_train, X_test, y_train, y_test = train_test_split(X_encoded, y, random_state=1)"
      ]
    },
    {
      "cell_type": "markdown",
      "metadata": {
        "id": "7H9Fm_CW3XQL"
      },
      "source": [
        "---"
      ]
    },
    {
      "cell_type": "markdown",
      "metadata": {
        "id": "O5cR-Lf03XQL"
      },
      "source": [
        "## Creating a Linear Regression Model with the Original Data"
      ]
    },
    {
      "cell_type": "markdown",
      "metadata": {
        "id": "fg6gEGnf3XQL"
      },
      "source": [
        "###   Fitting a linear regression model by using the training data (`X_train` and `y_train`)."
      ]
    },
    {
      "cell_type": "code",
      "execution_count": null,
      "metadata": {
        "id": "p7HM2QXP3XQL"
      },
      "outputs": [],
      "source": [
        "# Import the LinearRegression module from SKLearn\n",
        "from sklearn.linear_model import LinearRegression\n",
        "\n",
        "# Instantiate the Linear Regression model\n",
        "# Assign a random_state parameter of 1 to the model\n",
        "lin_reg_model = LinearRegression()\n",
        "\n",
        "# Fit the model using training data\n",
        "lr_model = lin_reg_model.fit(X_train, y_train)"
      ]
    },
    {
      "cell_type": "markdown",
      "metadata": {
        "id": "2ZX_qFld3XQL"
      },
      "source": [
        "###  Saving the predictions on the testing data labels by using the testing feature data (`X_test`) and the fitted model."
      ]
    },
    {
      "cell_type": "code",
      "execution_count": null,
      "metadata": {
        "id": "vf9fTDMK3XQM",
        "outputId": "0fd2f3aa-36c9-4d87-b934-c740accf005c"
      },
      "outputs": [
        {
          "data": {
            "text/plain": [
              "array([355000.,  70700., 229400., ...,  58800., 210800.,  87500.])"
            ]
          },
          "execution_count": 32,
          "metadata": {},
          "output_type": "execute_result"
        }
      ],
      "source": [
        "# Make a prediction using the testing data\n",
        "testing_prediction = lr_model.predict(X_test)\n",
        "\n",
        "testing_prediction"
      ]
    },
    {
      "cell_type": "markdown",
      "metadata": {
        "id": "RZlhOFM63XQM"
      },
      "source": [
        "## Performance Evaluation using Sklearn.metrics"
      ]
    },
    {
      "cell_type": "code",
      "execution_count": null,
      "metadata": {
        "id": "thA4qFom3XQM",
        "outputId": "d9dfc4d0-735a-46ee-ca20-0a5952d9136e"
      },
      "outputs": [
        {
          "name": "stdout",
          "output_type": "stream",
          "text": [
            "Mean Absolute Error: 5.587716886950585e-11\n",
            "Mean Squared Error: 6.287211957008216e-21\n",
            "Root Mean Squared Error: 7.929194131189005e-11\n",
            "R-squared: 1.0\n"
          ]
        }
      ],
      "source": [
        "# Calculate Mean Absolute Error (MAE)\n",
        "mae = mean_absolute_error(y_test, testing_prediction)\n",
        "\n",
        "# Calculate Mean Squared Error (MSE)\n",
        "mse = mean_squared_error(y_test, testing_prediction)\n",
        "\n",
        "# Calculate Root Mean Squared Error (RMSE)\n",
        "rmse = mean_squared_error(y_test, testing_prediction, squared=False)\n",
        "\n",
        "# Calculate R-squared\n",
        "r_squared = r2_score(y_test, testing_prediction)\n",
        "\n",
        "print(\"Mean Absolute Error:\", mae)\n",
        "print(\"Mean Squared Error:\", mse)\n",
        "print(\"Root Mean Squared Error:\", rmse)\n",
        "print(\"R-squared:\", r_squared)\n"
      ]
    },
    {
      "cell_type": "markdown",
      "metadata": {
        "id": "zpgs6rQl3XQM"
      },
      "source": [
        "## Using ocean_proximity as the new target variable"
      ]
    },
    {
      "cell_type": "code",
      "execution_count": null,
      "metadata": {
        "id": "NTxQVySS3XQM"
      },
      "outputs": [],
      "source": [
        "housing_df_2 = housing_df"
      ]
    },
    {
      "cell_type": "code",
      "execution_count": null,
      "metadata": {
        "id": "WYvnIhar3XQM",
        "outputId": "82567582-cb2e-43d1-a262-74d17aaae072"
      },
      "outputs": [
        {
          "data": {
            "text/html": [
              "<div>\n",
              "<style scoped>\n",
              "    .dataframe tbody tr th:only-of-type {\n",
              "        vertical-align: middle;\n",
              "    }\n",
              "\n",
              "    .dataframe tbody tr th {\n",
              "        vertical-align: top;\n",
              "    }\n",
              "\n",
              "    .dataframe thead th {\n",
              "        text-align: right;\n",
              "    }\n",
              "</style>\n",
              "<table border=\"1\" class=\"dataframe\">\n",
              "  <thead>\n",
              "    <tr style=\"text-align: right;\">\n",
              "      <th></th>\n",
              "      <th>longitude</th>\n",
              "      <th>latitude</th>\n",
              "      <th>housing_median_age</th>\n",
              "      <th>total_rooms</th>\n",
              "      <th>total_bedrooms</th>\n",
              "      <th>population</th>\n",
              "      <th>households</th>\n",
              "      <th>median_income</th>\n",
              "      <th>median_house_value</th>\n",
              "      <th>ocean_proximity</th>\n",
              "      <th>pop_density</th>\n",
              "      <th>rooms_per_household</th>\n",
              "      <th>bedrooms_per_room</th>\n",
              "      <th>age_of_housing_stock</th>\n",
              "      <th>income_times_age</th>\n",
              "      <th>income_category</th>\n",
              "    </tr>\n",
              "  </thead>\n",
              "  <tbody>\n",
              "    <tr>\n",
              "      <th>0</th>\n",
              "      <td>-122.23</td>\n",
              "      <td>37.88</td>\n",
              "      <td>41.0</td>\n",
              "      <td>880.0</td>\n",
              "      <td>129.0</td>\n",
              "      <td>322.0</td>\n",
              "      <td>126.0</td>\n",
              "      <td>8.3252</td>\n",
              "      <td>452600.0</td>\n",
              "      <td>NEAR BAY</td>\n",
              "      <td>-0.069545</td>\n",
              "      <td>6.984127</td>\n",
              "      <td>0.146591</td>\n",
              "      <td>41-50</td>\n",
              "      <td>341.3332</td>\n",
              "      <td>Middle</td>\n",
              "    </tr>\n",
              "    <tr>\n",
              "      <th>1</th>\n",
              "      <td>-122.22</td>\n",
              "      <td>37.86</td>\n",
              "      <td>21.0</td>\n",
              "      <td>7099.0</td>\n",
              "      <td>1106.0</td>\n",
              "      <td>2401.0</td>\n",
              "      <td>1138.0</td>\n",
              "      <td>8.3014</td>\n",
              "      <td>358500.0</td>\n",
              "      <td>NEAR BAY</td>\n",
              "      <td>-0.518883</td>\n",
              "      <td>6.238137</td>\n",
              "      <td>0.155797</td>\n",
              "      <td>21-30</td>\n",
              "      <td>174.3294</td>\n",
              "      <td>Middle</td>\n",
              "    </tr>\n",
              "    <tr>\n",
              "      <th>2</th>\n",
              "      <td>-122.24</td>\n",
              "      <td>37.85</td>\n",
              "      <td>52.0</td>\n",
              "      <td>1467.0</td>\n",
              "      <td>190.0</td>\n",
              "      <td>496.0</td>\n",
              "      <td>177.0</td>\n",
              "      <td>7.2574</td>\n",
              "      <td>352100.0</td>\n",
              "      <td>NEAR BAY</td>\n",
              "      <td>-0.107202</td>\n",
              "      <td>8.288136</td>\n",
              "      <td>0.129516</td>\n",
              "      <td>51+</td>\n",
              "      <td>377.3848</td>\n",
              "      <td>Middle</td>\n",
              "    </tr>\n",
              "    <tr>\n",
              "      <th>3</th>\n",
              "      <td>-122.25</td>\n",
              "      <td>37.85</td>\n",
              "      <td>52.0</td>\n",
              "      <td>1274.0</td>\n",
              "      <td>235.0</td>\n",
              "      <td>558.0</td>\n",
              "      <td>219.0</td>\n",
              "      <td>5.6431</td>\n",
              "      <td>341300.0</td>\n",
              "      <td>NEAR BAY</td>\n",
              "      <td>-0.120592</td>\n",
              "      <td>5.817352</td>\n",
              "      <td>0.184458</td>\n",
              "      <td>51+</td>\n",
              "      <td>293.4412</td>\n",
              "      <td>Lower Middle</td>\n",
              "    </tr>\n",
              "    <tr>\n",
              "      <th>4</th>\n",
              "      <td>-122.25</td>\n",
              "      <td>37.85</td>\n",
              "      <td>52.0</td>\n",
              "      <td>1627.0</td>\n",
              "      <td>280.0</td>\n",
              "      <td>565.0</td>\n",
              "      <td>259.0</td>\n",
              "      <td>3.8462</td>\n",
              "      <td>342200.0</td>\n",
              "      <td>NEAR BAY</td>\n",
              "      <td>-0.122105</td>\n",
              "      <td>6.281853</td>\n",
              "      <td>0.172096</td>\n",
              "      <td>51+</td>\n",
              "      <td>200.0024</td>\n",
              "      <td>Lower Middle</td>\n",
              "    </tr>\n",
              "  </tbody>\n",
              "</table>\n",
              "</div>"
            ],
            "text/plain": [
              "   longitude  latitude  housing_median_age  total_rooms  total_bedrooms  \\\n",
              "0    -122.23     37.88                41.0        880.0           129.0   \n",
              "1    -122.22     37.86                21.0       7099.0          1106.0   \n",
              "2    -122.24     37.85                52.0       1467.0           190.0   \n",
              "3    -122.25     37.85                52.0       1274.0           235.0   \n",
              "4    -122.25     37.85                52.0       1627.0           280.0   \n",
              "\n",
              "   population  households  median_income  median_house_value ocean_proximity  \\\n",
              "0       322.0       126.0         8.3252            452600.0        NEAR BAY   \n",
              "1      2401.0      1138.0         8.3014            358500.0        NEAR BAY   \n",
              "2       496.0       177.0         7.2574            352100.0        NEAR BAY   \n",
              "3       558.0       219.0         5.6431            341300.0        NEAR BAY   \n",
              "4       565.0       259.0         3.8462            342200.0        NEAR BAY   \n",
              "\n",
              "   pop_density  rooms_per_household  bedrooms_per_room age_of_housing_stock  \\\n",
              "0    -0.069545             6.984127           0.146591                41-50   \n",
              "1    -0.518883             6.238137           0.155797                21-30   \n",
              "2    -0.107202             8.288136           0.129516                  51+   \n",
              "3    -0.120592             5.817352           0.184458                  51+   \n",
              "4    -0.122105             6.281853           0.172096                  51+   \n",
              "\n",
              "   income_times_age income_category  \n",
              "0          341.3332          Middle  \n",
              "1          174.3294          Middle  \n",
              "2          377.3848          Middle  \n",
              "3          293.4412    Lower Middle  \n",
              "4          200.0024    Lower Middle  "
            ]
          },
          "execution_count": 35,
          "metadata": {},
          "output_type": "execute_result"
        }
      ],
      "source": [
        "housing_df_2.head()"
      ]
    },
    {
      "cell_type": "code",
      "execution_count": null,
      "metadata": {
        "id": "mxsPnJPc3XQN"
      },
      "outputs": [],
      "source": [
        "# Separate the data into labels and features\n",
        "\n",
        "# Separate the y variable, the labels\n",
        "y2 = housing_df_2['ocean_proximity']"
      ]
    },
    {
      "cell_type": "code",
      "execution_count": null,
      "metadata": {
        "id": "ZSr5Vftg3XQN"
      },
      "outputs": [],
      "source": [
        "encoder_target= OneHotEncoder()"
      ]
    },
    {
      "cell_type": "code",
      "execution_count": null,
      "metadata": {
        "id": "M26-LACL3XQN"
      },
      "outputs": [],
      "source": [
        "#encoding the target variable that is categorical\n",
        "y2_encoder = encoder_target.fit_transform(y2.values.reshape(-1,1))"
      ]
    },
    {
      "cell_type": "code",
      "execution_count": null,
      "metadata": {
        "id": "hmJno7y43XQN"
      },
      "outputs": [],
      "source": [
        "#encoding the X variable categorical columns\n",
        "one_encoder_2 = OneHotEncoder()\n",
        "ocean_proximity_logic_2 = one_encoder_2.fit_transform(housing_df_2[[\"age_of_housing_stock\",\"income_category\"]])"
      ]
    },
    {
      "cell_type": "code",
      "execution_count": null,
      "metadata": {
        "id": "FtpHplV03XQN"
      },
      "outputs": [],
      "source": [
        "ocean_proximity_array = ocean_proximity_logic_2.toarray()"
      ]
    },
    {
      "cell_type": "code",
      "execution_count": null,
      "metadata": {
        "id": "8E1QLPy63XQN"
      },
      "outputs": [],
      "source": [
        "encoded_df_2 = pd.DataFrame(ocean_proximity_array, columns=one_encoder_2.get_feature_names_out())"
      ]
    },
    {
      "cell_type": "code",
      "execution_count": null,
      "metadata": {
        "id": "rMoSZ6iV3XQO"
      },
      "outputs": [],
      "source": [
        "#combining both original and encoded dataframes\n",
        "housing_df_clean_2 = pd.concat([housing_df_2.drop(columns=['ocean_proximity', 'age_of_housing_stock', 'income_category']), encoded_df_2], axis=1)\n"
      ]
    },
    {
      "cell_type": "code",
      "execution_count": null,
      "metadata": {
        "id": "mREoM2-23XQO",
        "outputId": "817c5b00-2d50-448d-9545-f83813fd4971"
      },
      "outputs": [
        {
          "data": {
            "text/html": [
              "<div>\n",
              "<style scoped>\n",
              "    .dataframe tbody tr th:only-of-type {\n",
              "        vertical-align: middle;\n",
              "    }\n",
              "\n",
              "    .dataframe tbody tr th {\n",
              "        vertical-align: top;\n",
              "    }\n",
              "\n",
              "    .dataframe thead th {\n",
              "        text-align: right;\n",
              "    }\n",
              "</style>\n",
              "<table border=\"1\" class=\"dataframe\">\n",
              "  <thead>\n",
              "    <tr style=\"text-align: right;\">\n",
              "      <th></th>\n",
              "      <th>longitude</th>\n",
              "      <th>latitude</th>\n",
              "      <th>housing_median_age</th>\n",
              "      <th>total_rooms</th>\n",
              "      <th>total_bedrooms</th>\n",
              "      <th>population</th>\n",
              "      <th>households</th>\n",
              "      <th>median_income</th>\n",
              "      <th>median_house_value</th>\n",
              "      <th>pop_density</th>\n",
              "      <th>...</th>\n",
              "      <th>age_of_housing_stock_11-20</th>\n",
              "      <th>age_of_housing_stock_21-30</th>\n",
              "      <th>age_of_housing_stock_31-40</th>\n",
              "      <th>age_of_housing_stock_41-50</th>\n",
              "      <th>age_of_housing_stock_51+</th>\n",
              "      <th>income_category_High</th>\n",
              "      <th>income_category_Low</th>\n",
              "      <th>income_category_Lower Middle</th>\n",
              "      <th>income_category_Middle</th>\n",
              "      <th>income_category_Upper Middle</th>\n",
              "    </tr>\n",
              "  </thead>\n",
              "  <tbody>\n",
              "    <tr>\n",
              "      <th>0</th>\n",
              "      <td>-122.23</td>\n",
              "      <td>37.88</td>\n",
              "      <td>41.0</td>\n",
              "      <td>880.0</td>\n",
              "      <td>129.0</td>\n",
              "      <td>322.0</td>\n",
              "      <td>126.0</td>\n",
              "      <td>8.3252</td>\n",
              "      <td>452600.0</td>\n",
              "      <td>-0.069545</td>\n",
              "      <td>...</td>\n",
              "      <td>0.0</td>\n",
              "      <td>0.0</td>\n",
              "      <td>0.0</td>\n",
              "      <td>1.0</td>\n",
              "      <td>0.0</td>\n",
              "      <td>0.0</td>\n",
              "      <td>0.0</td>\n",
              "      <td>0.0</td>\n",
              "      <td>1.0</td>\n",
              "      <td>0.0</td>\n",
              "    </tr>\n",
              "    <tr>\n",
              "      <th>1</th>\n",
              "      <td>-122.22</td>\n",
              "      <td>37.86</td>\n",
              "      <td>21.0</td>\n",
              "      <td>7099.0</td>\n",
              "      <td>1106.0</td>\n",
              "      <td>2401.0</td>\n",
              "      <td>1138.0</td>\n",
              "      <td>8.3014</td>\n",
              "      <td>358500.0</td>\n",
              "      <td>-0.518883</td>\n",
              "      <td>...</td>\n",
              "      <td>0.0</td>\n",
              "      <td>1.0</td>\n",
              "      <td>0.0</td>\n",
              "      <td>0.0</td>\n",
              "      <td>0.0</td>\n",
              "      <td>0.0</td>\n",
              "      <td>0.0</td>\n",
              "      <td>0.0</td>\n",
              "      <td>1.0</td>\n",
              "      <td>0.0</td>\n",
              "    </tr>\n",
              "    <tr>\n",
              "      <th>2</th>\n",
              "      <td>-122.24</td>\n",
              "      <td>37.85</td>\n",
              "      <td>52.0</td>\n",
              "      <td>1467.0</td>\n",
              "      <td>190.0</td>\n",
              "      <td>496.0</td>\n",
              "      <td>177.0</td>\n",
              "      <td>7.2574</td>\n",
              "      <td>352100.0</td>\n",
              "      <td>-0.107202</td>\n",
              "      <td>...</td>\n",
              "      <td>0.0</td>\n",
              "      <td>0.0</td>\n",
              "      <td>0.0</td>\n",
              "      <td>0.0</td>\n",
              "      <td>1.0</td>\n",
              "      <td>0.0</td>\n",
              "      <td>0.0</td>\n",
              "      <td>0.0</td>\n",
              "      <td>1.0</td>\n",
              "      <td>0.0</td>\n",
              "    </tr>\n",
              "    <tr>\n",
              "      <th>3</th>\n",
              "      <td>-122.25</td>\n",
              "      <td>37.85</td>\n",
              "      <td>52.0</td>\n",
              "      <td>1274.0</td>\n",
              "      <td>235.0</td>\n",
              "      <td>558.0</td>\n",
              "      <td>219.0</td>\n",
              "      <td>5.6431</td>\n",
              "      <td>341300.0</td>\n",
              "      <td>-0.120592</td>\n",
              "      <td>...</td>\n",
              "      <td>0.0</td>\n",
              "      <td>0.0</td>\n",
              "      <td>0.0</td>\n",
              "      <td>0.0</td>\n",
              "      <td>1.0</td>\n",
              "      <td>0.0</td>\n",
              "      <td>0.0</td>\n",
              "      <td>1.0</td>\n",
              "      <td>0.0</td>\n",
              "      <td>0.0</td>\n",
              "    </tr>\n",
              "    <tr>\n",
              "      <th>4</th>\n",
              "      <td>-122.25</td>\n",
              "      <td>37.85</td>\n",
              "      <td>52.0</td>\n",
              "      <td>1627.0</td>\n",
              "      <td>280.0</td>\n",
              "      <td>565.0</td>\n",
              "      <td>259.0</td>\n",
              "      <td>3.8462</td>\n",
              "      <td>342200.0</td>\n",
              "      <td>-0.122105</td>\n",
              "      <td>...</td>\n",
              "      <td>0.0</td>\n",
              "      <td>0.0</td>\n",
              "      <td>0.0</td>\n",
              "      <td>0.0</td>\n",
              "      <td>1.0</td>\n",
              "      <td>0.0</td>\n",
              "      <td>0.0</td>\n",
              "      <td>1.0</td>\n",
              "      <td>0.0</td>\n",
              "      <td>0.0</td>\n",
              "    </tr>\n",
              "  </tbody>\n",
              "</table>\n",
              "<p>5 rows × 24 columns</p>\n",
              "</div>"
            ],
            "text/plain": [
              "   longitude  latitude  housing_median_age  total_rooms  total_bedrooms  \\\n",
              "0    -122.23     37.88                41.0        880.0           129.0   \n",
              "1    -122.22     37.86                21.0       7099.0          1106.0   \n",
              "2    -122.24     37.85                52.0       1467.0           190.0   \n",
              "3    -122.25     37.85                52.0       1274.0           235.0   \n",
              "4    -122.25     37.85                52.0       1627.0           280.0   \n",
              "\n",
              "   population  households  median_income  median_house_value  pop_density  \\\n",
              "0       322.0       126.0         8.3252            452600.0    -0.069545   \n",
              "1      2401.0      1138.0         8.3014            358500.0    -0.518883   \n",
              "2       496.0       177.0         7.2574            352100.0    -0.107202   \n",
              "3       558.0       219.0         5.6431            341300.0    -0.120592   \n",
              "4       565.0       259.0         3.8462            342200.0    -0.122105   \n",
              "\n",
              "   ...  age_of_housing_stock_11-20  age_of_housing_stock_21-30  \\\n",
              "0  ...                         0.0                         0.0   \n",
              "1  ...                         0.0                         1.0   \n",
              "2  ...                         0.0                         0.0   \n",
              "3  ...                         0.0                         0.0   \n",
              "4  ...                         0.0                         0.0   \n",
              "\n",
              "   age_of_housing_stock_31-40  age_of_housing_stock_41-50  \\\n",
              "0                         0.0                         1.0   \n",
              "1                         0.0                         0.0   \n",
              "2                         0.0                         0.0   \n",
              "3                         0.0                         0.0   \n",
              "4                         0.0                         0.0   \n",
              "\n",
              "   age_of_housing_stock_51+  income_category_High  income_category_Low  \\\n",
              "0                       0.0                   0.0                  0.0   \n",
              "1                       0.0                   0.0                  0.0   \n",
              "2                       1.0                   0.0                  0.0   \n",
              "3                       1.0                   0.0                  0.0   \n",
              "4                       1.0                   0.0                  0.0   \n",
              "\n",
              "   income_category_Lower Middle  income_category_Middle  \\\n",
              "0                           0.0                     1.0   \n",
              "1                           0.0                     1.0   \n",
              "2                           0.0                     1.0   \n",
              "3                           1.0                     0.0   \n",
              "4                           1.0                     0.0   \n",
              "\n",
              "   income_category_Upper Middle  \n",
              "0                           0.0  \n",
              "1                           0.0  \n",
              "2                           0.0  \n",
              "3                           0.0  \n",
              "4                           0.0  \n",
              "\n",
              "[5 rows x 24 columns]"
            ]
          },
          "execution_count": 79,
          "metadata": {},
          "output_type": "execute_result"
        }
      ],
      "source": [
        "housing_df_clean_2.head()"
      ]
    },
    {
      "cell_type": "code",
      "execution_count": null,
      "metadata": {
        "id": "YxHIYbQV3XQO",
        "outputId": "1af5bc22-8f48-4e86-c34a-e1eb6eeb8d80"
      },
      "outputs": [
        {
          "data": {
            "text/plain": [
              "longitude                         0\n",
              "latitude                          0\n",
              "housing_median_age                0\n",
              "total_rooms                       0\n",
              "total_bedrooms                  207\n",
              "population                        0\n",
              "households                        0\n",
              "median_income                     0\n",
              "median_house_value                0\n",
              "pop_density                       0\n",
              "rooms_per_household               0\n",
              "bedrooms_per_room               207\n",
              "income_times_age                  0\n",
              "age_of_housing_stock_0-10         0\n",
              "age_of_housing_stock_11-20        0\n",
              "age_of_housing_stock_21-30        0\n",
              "age_of_housing_stock_31-40        0\n",
              "age_of_housing_stock_41-50        0\n",
              "age_of_housing_stock_51+          0\n",
              "income_category_High              0\n",
              "income_category_Low               0\n",
              "income_category_Lower Middle      0\n",
              "income_category_Middle            0\n",
              "income_category_Upper Middle      0\n",
              "dtype: int64"
            ]
          },
          "execution_count": 80,
          "metadata": {},
          "output_type": "execute_result"
        }
      ],
      "source": [
        "#cleaning the data before model deployment\n",
        "housing_df_clean_2.isnull().sum()"
      ]
    },
    {
      "cell_type": "code",
      "execution_count": null,
      "metadata": {
        "id": "9dnmw5dW3XQO"
      },
      "outputs": [],
      "source": [
        "# Replacing missing values in 'total_bedrooms' column with 0\n",
        "housing_df_clean_2['total_bedrooms'] = housing_df_clean_2['total_bedrooms'].fillna(0)\n",
        "# Replacing missing values in 'total_bedrooms' column with 0\n",
        "housing_df_clean_2['bedrooms_per_room'] = housing_df_clean_2['bedrooms_per_room'].fillna(0)"
      ]
    },
    {
      "cell_type": "code",
      "execution_count": null,
      "metadata": {
        "id": "irL03iV63XQO",
        "outputId": "92b687c7-f165-4091-fcff-090f1bc6f6a3"
      },
      "outputs": [
        {
          "data": {
            "text/plain": [
              "longitude                       0\n",
              "latitude                        0\n",
              "housing_median_age              0\n",
              "total_rooms                     0\n",
              "total_bedrooms                  0\n",
              "population                      0\n",
              "households                      0\n",
              "median_income                   0\n",
              "median_house_value              0\n",
              "pop_density                     0\n",
              "rooms_per_household             0\n",
              "bedrooms_per_room               0\n",
              "income_times_age                0\n",
              "age_of_housing_stock_0-10       0\n",
              "age_of_housing_stock_11-20      0\n",
              "age_of_housing_stock_21-30      0\n",
              "age_of_housing_stock_31-40      0\n",
              "age_of_housing_stock_41-50      0\n",
              "age_of_housing_stock_51+        0\n",
              "income_category_High            0\n",
              "income_category_Low             0\n",
              "income_category_Lower Middle    0\n",
              "income_category_Middle          0\n",
              "income_category_Upper Middle    0\n",
              "dtype: int64"
            ]
          },
          "execution_count": 82,
          "metadata": {},
          "output_type": "execute_result"
        }
      ],
      "source": [
        "housing_df_clean_2.isnull().sum()"
      ]
    },
    {
      "cell_type": "code",
      "execution_count": null,
      "metadata": {
        "id": "MOzGzvqJ3XQO",
        "outputId": "7f4fa074-0fa4-4c0b-8ec2-3c6ddf130294"
      },
      "outputs": [
        {
          "data": {
            "text/plain": [
              "0    NEAR BAY\n",
              "1    NEAR BAY\n",
              "2    NEAR BAY\n",
              "3    NEAR BAY\n",
              "4    NEAR BAY\n",
              "Name: ocean_proximity, dtype: object"
            ]
          },
          "execution_count": 83,
          "metadata": {},
          "output_type": "execute_result"
        }
      ],
      "source": [
        "y2.head()"
      ]
    },
    {
      "cell_type": "code",
      "execution_count": null,
      "metadata": {
        "id": "28fSHIVa3XQP",
        "outputId": "55f780c8-95a1-4906-affd-a1be05c061a3"
      },
      "outputs": [
        {
          "data": {
            "text/plain": [
              "<1H OCEAN     9136\n",
              "INLAND        6551\n",
              "NEAR OCEAN    2658\n",
              "NEAR BAY      2290\n",
              "ISLAND           5\n",
              "Name: ocean_proximity, dtype: int64"
            ]
          },
          "execution_count": 84,
          "metadata": {},
          "output_type": "execute_result"
        }
      ],
      "source": [
        "# Checking the balance of our target values using value_counts function.\n",
        "y2.value_counts()"
      ]
    },
    {
      "cell_type": "code",
      "execution_count": null,
      "metadata": {
        "id": "CIupDWNO3XQP",
        "outputId": "12b1f0a4-c209-41d5-e006-872b78637aae"
      },
      "outputs": [
        {
          "data": {
            "text/html": [
              "<div>\n",
              "<style scoped>\n",
              "    .dataframe tbody tr th:only-of-type {\n",
              "        vertical-align: middle;\n",
              "    }\n",
              "\n",
              "    .dataframe tbody tr th {\n",
              "        vertical-align: top;\n",
              "    }\n",
              "\n",
              "    .dataframe thead th {\n",
              "        text-align: right;\n",
              "    }\n",
              "</style>\n",
              "<table border=\"1\" class=\"dataframe\">\n",
              "  <thead>\n",
              "    <tr style=\"text-align: right;\">\n",
              "      <th></th>\n",
              "      <th>longitude</th>\n",
              "      <th>latitude</th>\n",
              "      <th>housing_median_age</th>\n",
              "      <th>total_rooms</th>\n",
              "      <th>total_bedrooms</th>\n",
              "      <th>population</th>\n",
              "      <th>households</th>\n",
              "      <th>median_income</th>\n",
              "      <th>median_house_value</th>\n",
              "      <th>pop_density</th>\n",
              "      <th>...</th>\n",
              "      <th>age_of_housing_stock_11-20</th>\n",
              "      <th>age_of_housing_stock_21-30</th>\n",
              "      <th>age_of_housing_stock_31-40</th>\n",
              "      <th>age_of_housing_stock_41-50</th>\n",
              "      <th>age_of_housing_stock_51+</th>\n",
              "      <th>income_category_High</th>\n",
              "      <th>income_category_Low</th>\n",
              "      <th>income_category_Lower Middle</th>\n",
              "      <th>income_category_Middle</th>\n",
              "      <th>income_category_Upper Middle</th>\n",
              "    </tr>\n",
              "  </thead>\n",
              "  <tbody>\n",
              "    <tr>\n",
              "      <th>0</th>\n",
              "      <td>-122.23</td>\n",
              "      <td>37.88</td>\n",
              "      <td>41.0</td>\n",
              "      <td>880.0</td>\n",
              "      <td>129.0</td>\n",
              "      <td>322.0</td>\n",
              "      <td>126.0</td>\n",
              "      <td>8.3252</td>\n",
              "      <td>452600.0</td>\n",
              "      <td>-0.069545</td>\n",
              "      <td>...</td>\n",
              "      <td>0.0</td>\n",
              "      <td>0.0</td>\n",
              "      <td>0.0</td>\n",
              "      <td>1.0</td>\n",
              "      <td>0.0</td>\n",
              "      <td>0.0</td>\n",
              "      <td>0.0</td>\n",
              "      <td>0.0</td>\n",
              "      <td>1.0</td>\n",
              "      <td>0.0</td>\n",
              "    </tr>\n",
              "    <tr>\n",
              "      <th>1</th>\n",
              "      <td>-122.22</td>\n",
              "      <td>37.86</td>\n",
              "      <td>21.0</td>\n",
              "      <td>7099.0</td>\n",
              "      <td>1106.0</td>\n",
              "      <td>2401.0</td>\n",
              "      <td>1138.0</td>\n",
              "      <td>8.3014</td>\n",
              "      <td>358500.0</td>\n",
              "      <td>-0.518883</td>\n",
              "      <td>...</td>\n",
              "      <td>0.0</td>\n",
              "      <td>1.0</td>\n",
              "      <td>0.0</td>\n",
              "      <td>0.0</td>\n",
              "      <td>0.0</td>\n",
              "      <td>0.0</td>\n",
              "      <td>0.0</td>\n",
              "      <td>0.0</td>\n",
              "      <td>1.0</td>\n",
              "      <td>0.0</td>\n",
              "    </tr>\n",
              "    <tr>\n",
              "      <th>2</th>\n",
              "      <td>-122.24</td>\n",
              "      <td>37.85</td>\n",
              "      <td>52.0</td>\n",
              "      <td>1467.0</td>\n",
              "      <td>190.0</td>\n",
              "      <td>496.0</td>\n",
              "      <td>177.0</td>\n",
              "      <td>7.2574</td>\n",
              "      <td>352100.0</td>\n",
              "      <td>-0.107202</td>\n",
              "      <td>...</td>\n",
              "      <td>0.0</td>\n",
              "      <td>0.0</td>\n",
              "      <td>0.0</td>\n",
              "      <td>0.0</td>\n",
              "      <td>1.0</td>\n",
              "      <td>0.0</td>\n",
              "      <td>0.0</td>\n",
              "      <td>0.0</td>\n",
              "      <td>1.0</td>\n",
              "      <td>0.0</td>\n",
              "    </tr>\n",
              "    <tr>\n",
              "      <th>3</th>\n",
              "      <td>-122.25</td>\n",
              "      <td>37.85</td>\n",
              "      <td>52.0</td>\n",
              "      <td>1274.0</td>\n",
              "      <td>235.0</td>\n",
              "      <td>558.0</td>\n",
              "      <td>219.0</td>\n",
              "      <td>5.6431</td>\n",
              "      <td>341300.0</td>\n",
              "      <td>-0.120592</td>\n",
              "      <td>...</td>\n",
              "      <td>0.0</td>\n",
              "      <td>0.0</td>\n",
              "      <td>0.0</td>\n",
              "      <td>0.0</td>\n",
              "      <td>1.0</td>\n",
              "      <td>0.0</td>\n",
              "      <td>0.0</td>\n",
              "      <td>1.0</td>\n",
              "      <td>0.0</td>\n",
              "      <td>0.0</td>\n",
              "    </tr>\n",
              "    <tr>\n",
              "      <th>4</th>\n",
              "      <td>-122.25</td>\n",
              "      <td>37.85</td>\n",
              "      <td>52.0</td>\n",
              "      <td>1627.0</td>\n",
              "      <td>280.0</td>\n",
              "      <td>565.0</td>\n",
              "      <td>259.0</td>\n",
              "      <td>3.8462</td>\n",
              "      <td>342200.0</td>\n",
              "      <td>-0.122105</td>\n",
              "      <td>...</td>\n",
              "      <td>0.0</td>\n",
              "      <td>0.0</td>\n",
              "      <td>0.0</td>\n",
              "      <td>0.0</td>\n",
              "      <td>1.0</td>\n",
              "      <td>0.0</td>\n",
              "      <td>0.0</td>\n",
              "      <td>1.0</td>\n",
              "      <td>0.0</td>\n",
              "      <td>0.0</td>\n",
              "    </tr>\n",
              "  </tbody>\n",
              "</table>\n",
              "<p>5 rows × 24 columns</p>\n",
              "</div>"
            ],
            "text/plain": [
              "   longitude  latitude  housing_median_age  total_rooms  total_bedrooms  \\\n",
              "0    -122.23     37.88                41.0        880.0           129.0   \n",
              "1    -122.22     37.86                21.0       7099.0          1106.0   \n",
              "2    -122.24     37.85                52.0       1467.0           190.0   \n",
              "3    -122.25     37.85                52.0       1274.0           235.0   \n",
              "4    -122.25     37.85                52.0       1627.0           280.0   \n",
              "\n",
              "   population  households  median_income  median_house_value  pop_density  \\\n",
              "0       322.0       126.0         8.3252            452600.0    -0.069545   \n",
              "1      2401.0      1138.0         8.3014            358500.0    -0.518883   \n",
              "2       496.0       177.0         7.2574            352100.0    -0.107202   \n",
              "3       558.0       219.0         5.6431            341300.0    -0.120592   \n",
              "4       565.0       259.0         3.8462            342200.0    -0.122105   \n",
              "\n",
              "   ...  age_of_housing_stock_11-20  age_of_housing_stock_21-30  \\\n",
              "0  ...                         0.0                         0.0   \n",
              "1  ...                         0.0                         1.0   \n",
              "2  ...                         0.0                         0.0   \n",
              "3  ...                         0.0                         0.0   \n",
              "4  ...                         0.0                         0.0   \n",
              "\n",
              "   age_of_housing_stock_31-40  age_of_housing_stock_41-50  \\\n",
              "0                         0.0                         1.0   \n",
              "1                         0.0                         0.0   \n",
              "2                         0.0                         0.0   \n",
              "3                         0.0                         0.0   \n",
              "4                         0.0                         0.0   \n",
              "\n",
              "   age_of_housing_stock_51+  income_category_High  income_category_Low  \\\n",
              "0                       0.0                   0.0                  0.0   \n",
              "1                       0.0                   0.0                  0.0   \n",
              "2                       1.0                   0.0                  0.0   \n",
              "3                       1.0                   0.0                  0.0   \n",
              "4                       1.0                   0.0                  0.0   \n",
              "\n",
              "   income_category_Lower Middle  income_category_Middle  \\\n",
              "0                           0.0                     1.0   \n",
              "1                           0.0                     1.0   \n",
              "2                           0.0                     1.0   \n",
              "3                           1.0                     0.0   \n",
              "4                           1.0                     0.0   \n",
              "\n",
              "   income_category_Upper Middle  \n",
              "0                           0.0  \n",
              "1                           0.0  \n",
              "2                           0.0  \n",
              "3                           0.0  \n",
              "4                           0.0  \n",
              "\n",
              "[5 rows x 24 columns]"
            ]
          },
          "execution_count": 86,
          "metadata": {},
          "output_type": "execute_result"
        }
      ],
      "source": [
        "housing_df_clean_2.head()"
      ]
    },
    {
      "cell_type": "code",
      "execution_count": null,
      "metadata": {
        "id": "WhNNvBsP3XQP"
      },
      "outputs": [],
      "source": [
        "# Import the train_test_learn module\n",
        "from sklearn.model_selection import train_test_split\n",
        "\n",
        "# Split the data using train_test_split\n",
        "# Assign a random_state of 1 to the function\n",
        "X2_train, X2_test, y2_train, y2_test = train_test_split(housing_df_clean_2, y2, random_state=1)"
      ]
    },
    {
      "cell_type": "code",
      "execution_count": null,
      "metadata": {
        "id": "QZnocsPU3XQP"
      },
      "outputs": [],
      "source": [
        "# Import the LogisticRegression module from SKLearn\n",
        "from sklearn.linear_model import LogisticRegression\n",
        "\n",
        "# Instantiate the Logistic Regression model\n",
        "# Assign a random_state parameter of 1 to the model\n",
        "log_reg_model = LogisticRegression()\n",
        "\n",
        "# Fit the model using training data\n",
        "log_model = log_reg_model.fit(X2_train, y2_train)"
      ]
    },
    {
      "cell_type": "code",
      "execution_count": null,
      "metadata": {
        "id": "M0JjwWrt3XQQ",
        "outputId": "ada83d5c-0cd4-48a6-dda6-5e8fb4557d16"
      },
      "outputs": [
        {
          "data": {
            "text/plain": [
              "array(['<1H OCEAN', 'INLAND', '<1H OCEAN', ..., '<1H OCEAN', '<1H OCEAN',\n",
              "       '<1H OCEAN'], dtype=object)"
            ]
          },
          "execution_count": 89,
          "metadata": {},
          "output_type": "execute_result"
        }
      ],
      "source": [
        "# Make a prediction using the testing data\n",
        "test_prediction = log_model.predict(X2_test)\n",
        "\n",
        "test_prediction"
      ]
    },
    {
      "cell_type": "markdown",
      "metadata": {
        "id": "_DoZpWsc3XQQ"
      },
      "source": [
        "###  Evaluating the model’s performance by doing the following:\n",
        "\n",
        "* Calculating the accuracy score of the model.\n",
        "\n",
        "* Generating a confusion matrix.\n",
        "\n",
        "* Print the classification report."
      ]
    },
    {
      "cell_type": "code",
      "execution_count": null,
      "metadata": {
        "id": "YWGSa4uH3XQQ",
        "outputId": "9dabba00-3470-4a10-cd8d-57dda4202b02"
      },
      "outputs": [
        {
          "data": {
            "text/plain": [
              "0.3199446613604458"
            ]
          },
          "execution_count": 90,
          "metadata": {},
          "output_type": "execute_result"
        }
      ],
      "source": [
        "# Print the balanced_accuracy score of the model\n",
        "balanced_accuracy_score(y2_test, test_prediction)"
      ]
    },
    {
      "cell_type": "code",
      "execution_count": null,
      "metadata": {
        "id": "rJbEx2v83XQR"
      },
      "outputs": [],
      "source": [
        "# Generate a confusion matrix for the model\n",
        "cm = confusion_matrix(y2_test, test_prediction)\n"
      ]
    },
    {
      "cell_type": "code",
      "execution_count": null,
      "metadata": {
        "id": "IMJzecKI3XQR",
        "outputId": "7653a18c-7d48-43da-c511-c12c0b7b3ee2"
      },
      "outputs": [
        {
          "name": "stdout",
          "output_type": "stream",
          "text": [
            "[[2141  140    0    0]\n",
            " [1095  567    0    0]\n",
            " [ 531   42    0    0]\n",
            " [ 600   44    0    0]]\n"
          ]
        }
      ],
      "source": [
        "# Print the classification report for the model\n",
        "print(cm)"
      ]
    },
    {
      "cell_type": "markdown",
      "metadata": {
        "id": "LRwP7F4C3XQR"
      },
      "source": [
        "---"
      ]
    },
    {
      "cell_type": "markdown",
      "metadata": {
        "id": "o5ApFqAO3XQR"
      },
      "source": [
        "## Predicting a Logistic Regression Model with Resampled Training Data"
      ]
    },
    {
      "cell_type": "markdown",
      "metadata": {
        "id": "tlv8TrsB3XQR"
      },
      "source": [
        "### Using the `RandomOverSampler` module from the imbalanced-learn library to resample the data."
      ]
    },
    {
      "cell_type": "code",
      "execution_count": null,
      "metadata": {
        "id": "FLnUcp7h3XQS"
      },
      "outputs": [],
      "source": [
        "# Import the RandomOverSampler module form imbalanced-learn\n",
        "from imblearn.over_sampling import RandomOverSampler\n",
        "\n",
        "# Instantiate the random oversampler model\n",
        "# # Assign a random_state parameter of 1 to the model\n",
        "ros = RandomOverSampler(random_state=1)\n",
        "\n",
        "# Fit the original training data to the random_oversampler model\n",
        "x_oversampled, y_oversampled = ros.fit_resample(X2_train, y2_train)"
      ]
    },
    {
      "cell_type": "code",
      "execution_count": null,
      "metadata": {
        "id": "j9J_bYv63XQS",
        "outputId": "ea4376fa-6efd-4e7e-ef73-d62e60bbd369"
      },
      "outputs": [
        {
          "data": {
            "text/plain": [
              "INLAND        6855\n",
              "NEAR OCEAN    6855\n",
              "<1H OCEAN     6855\n",
              "NEAR BAY      6855\n",
              "ISLAND        6855\n",
              "Name: ocean_proximity, dtype: int64"
            ]
          },
          "execution_count": 94,
          "metadata": {},
          "output_type": "execute_result"
        }
      ],
      "source": [
        "# Counting the distinct values of the resampled labels data\n",
        "y_oversampled.value_counts()"
      ]
    },
    {
      "cell_type": "markdown",
      "metadata": {
        "id": "8CsDd47u3XQS"
      },
      "source": [
        "### Using the `LogisticRegression` classifier and the resampled data to fit the model and make predictions."
      ]
    },
    {
      "cell_type": "code",
      "execution_count": null,
      "metadata": {
        "id": "0BfhpJxB3XQS"
      },
      "outputs": [],
      "source": [
        "# Instantiate the Logistic Regression model\n",
        "# Assign a random_state parameter of 1 to the model\n",
        "log_over = LogisticRegression(random_state=1)\n",
        "\n",
        "# Fit the model using the resampled training data\n",
        "log_over.fit(x_oversampled, y_oversampled)\n",
        "\n",
        "# Make a prediction using the testing data\n",
        "y_pred_oversampled = log_over.predict(X2_test)"
      ]
    },
    {
      "cell_type": "markdown",
      "metadata": {
        "id": "ERD1XZMc3XQS"
      },
      "source": [
        "### Lastly Evaluating the model’s performance by doing the following:\n",
        "\n",
        "* Calculate the accuracy score of the model.\n",
        "\n",
        "* Generate a confusion matrix.\n",
        "\n",
        "* Print the classification report."
      ]
    },
    {
      "cell_type": "code",
      "execution_count": null,
      "metadata": {
        "id": "MOqpQkXG3XQT",
        "outputId": "321bbce9-1e4c-4aad-8ad6-61de309e50ff"
      },
      "outputs": [
        {
          "data": {
            "text/plain": [
              "0.3193872035084533"
            ]
          },
          "execution_count": 96,
          "metadata": {},
          "output_type": "execute_result"
        }
      ],
      "source": [
        "# Print the balanced_accuracy score of the model\n",
        "balanced_accuracy_score(y2_test, y_pred_oversampled)"
      ]
    },
    {
      "cell_type": "code",
      "execution_count": null,
      "metadata": {
        "id": "-Dnkn2a23XQT"
      },
      "outputs": [],
      "source": [
        "# Generate a confusion matrix for the model\n",
        "oversampled_cm= confusion_matrix(y2_test, y_pred_oversampled)"
      ]
    },
    {
      "cell_type": "code",
      "execution_count": null,
      "metadata": {
        "id": "YPhdZAin3XQU",
        "outputId": "f0adc2b1-0569-41e6-892a-49ca528a8262"
      },
      "outputs": [
        {
          "name": "stdout",
          "output_type": "stream",
          "text": [
            "Classification Report - original data\n",
            "              precision    recall  f1-score   support\n",
            "\n",
            "   <1H OCEAN       0.49      0.94      0.64      2281\n",
            "      INLAND       0.72      0.34      0.46      1662\n",
            "    NEAR BAY       0.00      0.00      0.00       573\n",
            "  NEAR OCEAN       0.00      0.00      0.00       644\n",
            "\n",
            "    accuracy                           0.52      5160\n",
            "   macro avg       0.30      0.32      0.28      5160\n",
            "weighted avg       0.45      0.52      0.43      5160\n",
            "\n",
            "Classification Report - oversampled data\n",
            "              precision    recall  f1-score   support\n",
            "\n",
            "   <1H OCEAN       0.56      0.48      0.52      2281\n",
            "      INLAND       0.67      0.45      0.54      1662\n",
            "      ISLAND       0.00      0.00      0.00         0\n",
            "    NEAR BAY       0.16      0.32      0.21       573\n",
            "  NEAR OCEAN       0.12      0.03      0.05       644\n",
            "\n",
            "    accuracy                           0.40      5160\n",
            "   macro avg       0.30      0.26      0.26      5160\n",
            "weighted avg       0.50      0.40      0.43      5160\n",
            "\n"
          ]
        }
      ],
      "source": [
        "# Print the classification report for the model\n",
        "print(f\"Classification Report - original data\")\n",
        "print(classification_report(y2_test, test_prediction))\n",
        "print(f\"Classification Report - oversampled data\")\n",
        "print(classification_report(y2_test, y_pred_oversampled))"
      ]
    },
    {
      "cell_type": "markdown",
      "metadata": {
        "id": "SrvCRq-Y3XQU"
      },
      "source": [
        "### Based on the Classification report, the model's prediction accuracy was 52% after hypertuning to improve the model which was originally at 32% accuracy."
      ]
    },
    {
      "cell_type": "code",
      "execution_count": null,
      "metadata": {
        "id": "37wX7nHq3XQU"
      },
      "outputs": [],
      "source": []
    }
  ],
  "metadata": {
    "kernelspec": {
      "display_name": "Python 3 (ipykernel)",
      "language": "python",
      "name": "python3"
    },
    "language_info": {
      "codemirror_mode": {
        "name": "ipython",
        "version": 3
      },
      "file_extension": ".py",
      "mimetype": "text/x-python",
      "name": "python",
      "nbconvert_exporter": "python",
      "pygments_lexer": "ipython3",
      "version": "3.10.9"
    },
    "colab": {
      "provenance": []
    }
  },
  "nbformat": 4,
  "nbformat_minor": 0
}